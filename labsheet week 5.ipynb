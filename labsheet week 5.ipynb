{
 "cells": [
  {
   "cell_type": "markdown",
   "metadata": {},
   "source": [
    "# Lab week 5 - Outcomes\n",
    "\n",
    "\n",
    "In this lab you should read through and run the code in this lab sheet and complete the lab assessment. The lab assessment can be found in LMS. By the end of this week's lab you should be able to use R to:\n",
    "\n",
    "* transform data \n",
    "* standardise and compare data\n",
    "* find the correlation coefficient of two numeric variables and interpret it\n",
    "\n",
    "\n",
    "Run the following code below first to load the necessary packages for this lab and set the plot size: "
   ]
  },
  {
   "cell_type": "code",
   "execution_count": null,
   "metadata": {},
   "outputs": [],
   "source": [
    "library(ggplot2)  # loading the ggplot2 package\n",
    "library(repr)     # loading the repr package\n",
    "\n",
    "# Change plot size for all following plots \n",
    "options(repr.plot.width=4, repr.plot.height=4, repr.plot.res = 120)\n"
   ]
  },
  {
   "cell_type": "markdown",
   "metadata": {},
   "source": [
    "# Exercise 1: Data Transformation\n",
    "\n",
    "\n",
    "Today we will take a look into some common ways of transforming data without worrying about the reasons too much yet.\n",
    "First, load the Larvae dataset from last week's lab. Make sure that the 'week5-larvae.csv' file is located in the same directory as this .ipynb file. \n",
    "\n",
    "Note that additional comments on the individual lines are provided below. Remember that comments (starting with `#`) are ignored when the code is executed."
   ]
  },
  {
   "cell_type": "code",
   "execution_count": null,
   "metadata": {},
   "outputs": [],
   "source": [
    "larvae <- read.csv(\"week5-larvae.csv\")     # saving the data in the variable 'larvae'\n",
    "head(larvae)                         # printing the first six rows of the larvae data\n",
    "summary(larvae)                      # printing the summary statistic for each variable of the datafile"
   ]
  },
  {
   "cell_type": "markdown",
   "metadata": {},
   "source": [
    "**Remember from last week:** \n",
    "The datafile contains data of an experiment testing the effect of different intensities of\n",
    "two insecticides (a/b). The variable 'NumberLarvae' records the number of dead larvae following different\n",
    "intensities of insecticide treatments (the variable 'Insecticide') measured as milliliters per litre. \n",
    "\n",
    "For now, we will focus on the 'NumberLarvae' variable, which records the number of dead larvae.\n",
    "\n",
    "Via simple subtraction or addition we can shift the data. In particular, we can \"mean-center\" it if we choose to subtract the mean from every datapoint. Run the following lines of code to do so and make sure you understand what the code does! "
   ]
  },
  {
   "cell_type": "code",
   "execution_count": null,
   "metadata": {},
   "outputs": [],
   "source": [
    "number_dead <- larvae[,3]\n",
    "mean.dead <- mean(number_dead)\n",
    "number_dead_mean_centered <- number_dead - mean.dead\n",
    "\n",
    "number_dead\n",
    "mean.dead\n",
    "round(number_dead_mean_centered, 2)\n",
    "mean(number_dead_mean_centered)"
   ]
  },
  {
   "cell_type": "markdown",
   "metadata": {},
   "source": [
    "* What is the mean of the mean-centerd dataset?\n",
    "* How would you interpret negative/positive datapoints in this context?"
   ]
  },
  {
   "cell_type": "markdown",
   "metadata": {},
   "source": [
    "Via multiplication, we can also scale the data. If we choose to multiply with values smaller than 1, we shrink the data down, while we inflate it if we multiply with values larger than 1. The three boxplots below visualise this. Notice the altering y-scale ranges."
   ]
  },
  {
   "cell_type": "code",
   "execution_count": null,
   "metadata": {},
   "outputs": [],
   "source": [
    "b1 <- number_dead\n",
    "b2 <- 0.5 * number_dead\n",
    "b3 <- 3 * number_dead\n",
    "\n",
    "par(mfrow=c(1,3))\n",
    "boxplot(b1)\n",
    "boxplot(b2)\n",
    "boxplot(b3)\n"
   ]
  },
  {
   "cell_type": "markdown",
   "metadata": {},
   "source": [
    "(Mean-) centering and scaling are so-called linear transformations. Try to think about how linear transformation will affect the descriptive values from the summary statistics.\n",
    "\n",
    "For instance, how would a linear transformation on the 'NumberLarvae' data via multiplication by 2 and then subtracting 5 from every datapoint affect the summary statistics. You can use the code cells below for calculations.  "
   ]
  },
  {
   "cell_type": "code",
   "execution_count": null,
   "metadata": {},
   "outputs": [],
   "source": [
    "x <- number_dead \n",
    "y <- 2 * x - 5"
   ]
  },
  {
   "cell_type": "code",
   "execution_count": null,
   "metadata": {},
   "outputs": [],
   "source": [
    "# use this cell to investigate how the summary statistics of y (which is a linear transformation of x) change."
   ]
  },
  {
   "cell_type": "markdown",
   "metadata": {},
   "source": [
    "# Exercise 2: Standardisation\n",
    "\n",
    "One of the many applications of transforming data is when we standardise data. This is equivalent to mean-centering and scaling the data with the inverse of its standard deviation. The resulting data can then be expressed as a deviation from the mean in multiples of the standard deviation. If for instance any given datapoint is equal to 3.5 after this particular kind of standardisation, we interpret this datapoint to be 3.5 standard deviations above the mean of the corresponding dataset. \n",
    "\n",
    "This type of standardisation helps to make data from different populations comparable.\n",
    "\n",
    "The following dataset contains imaginary information on mathematics and physics students. Each of which achieved a mark (out of 100 points) by the end of the year. "
   ]
  },
  {
   "cell_type": "code",
   "execution_count": null,
   "metadata": {},
   "outputs": [],
   "source": [
    "Marks <- read.csv(\"week5-Marks.csv\")\n",
    "head(Marks)"
   ]
  },
  {
   "cell_type": "markdown",
   "metadata": {},
   "source": [
    "Retrieve the summary statistics for both groups (Maths and Physics) **separately** first. You can do so by using the `summary()` command and **completing** the code below. \n",
    "\n",
    "If you have trouble to separate the groups, take a look at exercise 1 from week's 3 labsheet, where we separated the setosa species from the other plant species in the iris dataframe."
   ]
  },
  {
   "cell_type": "code",
   "execution_count": null,
   "metadata": {},
   "outputs": [],
   "source": [
    "Maths.Students <- Marks[...# has to be filled in by you...]\n",
    "Physics.Students <- ..."
   ]
  },
  {
   "cell_type": "markdown",
   "metadata": {},
   "source": [
    "We will now try to compare the best maths student to the best physics student. \n",
    "\n",
    "*From the absolute scores, which of the two appears to be more dominant in his/ her respective field of study?*\n",
    "\n",
    "*Which of the two appears to be more dominant if compared to their peers?*\n",
    "\n",
    "\n",
    "If we take the results of the other students into account and therefore use the standardised values instead, which of the two appears to be the more dominant student compared to his/her peers now? Use the empty cells below for any kind of calculations you want to perform. Hint: The `min()`/`max()`, `mean()` and `sd()` commands might prove helpful. \n",
    "You could also try to use the `scale()` command instead to speed things up. If you are not familiar with it, make sure you read up on it first via `?scale`.\n",
    "No matter which method you prefer **standardising the data will be necessary to perform this task**."
   ]
  },
  {
   "cell_type": "code",
   "execution_count": null,
   "metadata": {},
   "outputs": [],
   "source": [
    "# use this cell to perform additional calculations like standardising the data for the two groups separately!"
   ]
  },
  {
   "cell_type": "markdown",
   "metadata": {},
   "source": [
    "# Correlation\n",
    "\n",
    "For this exercise we will be using the Larvae dataset again.\n",
    "\n",
    "\n",
    "If you haven't already done so, read in the Larvae dataset. We are interested in the association of the two numeric variables:\n",
    "\n",
    "* NumberLarvae: This variable records the number of dead larvae\n",
    "* Insecticide: This variable records different intensities of insecticide treatments (measured in milliliters per litre) \n"
   ]
  },
  {
   "cell_type": "code",
   "execution_count": null,
   "metadata": {
    "scrolled": true
   },
   "outputs": [],
   "source": [
    "head(larvae)"
   ]
  },
  {
   "cell_type": "markdown",
   "metadata": {},
   "source": [
    "In this question, we are interested in how the intensity of the insecticide and the number of dead larvae relate to one another. Below, we have created a scatter plot with 'Insecticide' on the x-axis and 'NumberLarvae' on the y-axis. "
   ]
  },
  {
   "cell_type": "code",
   "execution_count": null,
   "metadata": {},
   "outputs": [],
   "source": [
    "ggplot(larvae, aes(x = Insecticide, y = NumberLarvae)) + geom_point()"
   ]
  },
  {
   "cell_type": "markdown",
   "metadata": {},
   "source": [
    "What do you notice about the relationship between the two variables? \n",
    "\n",
    "*Do you think it is a linear or non-linear relationship?* \n",
    "\n",
    "*Does the association between the two variables have a positive or negative direction?* \n",
    "\n",
    "*Do you think it is a strong or a weak relationship?*\n",
    "\n",
    "*Do you notice any difference in the spread of 'NumberLarvae' depending on the insecticide intensity?*\n"
   ]
  },
  {
   "cell_type": "markdown",
   "metadata": {},
   "source": [
    "In the lectures, you will have discussed the correlation coefficient. Some important notes from the lecture were: \n",
    "\n",
    "* Correlation is only a measure of **linear association**.\n",
    "* It does not tell us about non-linear associations.\n",
    "* It does not indicate a cause and effect relationship.\n",
    "\n",
    "\n",
    "To calculate the correlation between 'Insecticide' and 'NumberLarvae' we can use the `cor()` command in R, as seen below. Does the correlation value match your findings from the scatterplot?"
   ]
  },
  {
   "cell_type": "code",
   "execution_count": null,
   "metadata": {},
   "outputs": [],
   "source": [
    "# To be completed by you.\n",
    "cor(x= , y= )"
   ]
  },
  {
   "cell_type": "markdown",
   "metadata": {},
   "source": [
    "# Exercise 3: \n",
    "\n",
    "Let's revisit the 'Marks' dataframe. However, this time we interpret the datapoints as observations from one rather than two independent populations, i.e., for each student we know the points they scored in both, the math test as well as the physics test and there are only 25, not 50 students. This change in study design is reflected in a new dataset called 'week5-Marks.pooled.csv'. "
   ]
  },
  {
   "cell_type": "code",
   "execution_count": null,
   "metadata": {},
   "outputs": [],
   "source": [
    "Marks.pooled <- read.csv(\"week5-Marks.pooled.csv\")\n",
    "head(Marks.pooled)"
   ]
  },
  {
   "cell_type": "markdown",
   "metadata": {},
   "source": [
    "*Create a scatterplot similar to the one above*\n",
    "\n",
    "*Based on the scatterplot, do you think there is an association between the two disciplines?*\n",
    "\n",
    "Now turn to the assessment questions regarding exercise 3 of today's lab sheet."
   ]
  },
  {
   "cell_type": "markdown",
   "metadata": {},
   "source": [
    "In this week's lectures you have learned about the general idea of linear regression. How does the so far conducted correlation analysis fit into this idea? For the 'larvae' dataframe, which variable would you choose to be the dependent/ independent variable and why? Do you think a linear regression analysis would be an appropriate approach to further investigate the relationship at hand?"
   ]
  },
  {
   "cell_type": "markdown",
   "metadata": {},
   "source": [
    "# Exercise 4: Outliers and Data Manipulation\n",
    "\n",
    "On LMS you will find a .csv file named 'galaxy'. First, create a variable called 'galaxy', which contains the dataset. \n"
   ]
  },
  {
   "cell_type": "code",
   "execution_count": null,
   "metadata": {},
   "outputs": [],
   "source": [
    "galaxy <- read.csv(\"week5-galaxy.csv\")\n",
    "head(galaxy)"
   ]
  },
  {
   "cell_type": "markdown",
   "metadata": {},
   "source": [
    "In this dataset we find two numerical variables. The variable 'Velocity' corresponds to the recessional velocity (measured in km per second) of a galaxy moving away from earth. The variable 'Distance' corresponds to the distance of that galaxy from earth.\n",
    "\n",
    "Use boxplots to visually scan both variables for outliers."
   ]
  },
  {
   "cell_type": "code",
   "execution_count": null,
   "metadata": {},
   "outputs": [],
   "source": [
    "#resetting plot size\n",
    "options(repr.plot.width=5, repr.plot.height=4,repr.plot.res = 120)\n",
    "\n",
    "\n",
    "par(mfrow=c(1,2))\n",
    "boxplot(galaxy$Velocity)\n",
    "boxplot(galaxy$Distance)"
   ]
  },
  {
   "cell_type": "markdown",
   "metadata": {},
   "source": [
    "Derive the summary statistics via `summary()` and decide which of the descriptive values may be flawed because of the outliers that you have detected. \n",
    "\n",
    "There appears to be one outlier regarding the 'Velocity' and two outliers regarding the 'Distance' variable. \n",
    "For some analytical methods it is a problem that our data is flawed like that, so this might have to be addressed. However, there isn't just one way to \"treat\" outliers but treatment can be performed in different ways depending on the nature of the outlier at question. \n",
    "\n",
    "The most drastic approach of course is to delete the datapoint altogether if we render the information useless based on its unknown extreme behaviour. However, sometimes outliers result from obvious typing errors and can easily be manually corrected for instance. You should also bear in mind that outliers do not always result from errors, but may instead indeed be valid, yet extreme, observations for which we have no reason to \"correct\" or even remove them.\n",
    "\n",
    "*For the outliers observed above, think about their nature and how you might treat them best.*\n",
    "\n",
    "Now answer the questions regarding this exercise in your online assessment."
   ]
  },
  {
   "cell_type": "markdown",
   "metadata": {},
   "source": [
    "Lastly, visualise the association between the two variables via a scatterplot."
   ]
  },
  {
   "cell_type": "code",
   "execution_count": null,
   "metadata": {},
   "outputs": [],
   "source": [
    "# use this cell to create the scatterplot please."
   ]
  },
  {
   "cell_type": "markdown",
   "metadata": {},
   "source": [
    "Finalise this week's lab sheet by answering the remaining questions in your assessment now. Remember to round all results to 3 decimal places. Following zero's can of course be omitted. For example, state 2.5 as 2.5 and not as 2.500. \n",
    "\n",
    "Good luck!"
   ]
  }
 ],
 "metadata": {
  "kernelspec": {
   "display_name": "R",
   "language": "R",
   "name": "ir"
  },
  "language_info": {
   "codemirror_mode": "r",
   "file_extension": ".r",
   "mimetype": "text/x-r-source",
   "name": "R",
   "pygments_lexer": "r",
   "version": "4.1.3"
  }
 },
 "nbformat": 4,
 "nbformat_minor": 4
}
