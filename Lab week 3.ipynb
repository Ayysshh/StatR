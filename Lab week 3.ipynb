{
 "cells": [
  {
   "cell_type": "markdown",
   "metadata": {
    "lines_to_next_cell": 0
   },
   "source": [
    "# Lab Week 3 - Outcomes\n",
    "\n",
    "In this lab you should read through and run the code in this lab sheet and complete the lab assignment. In this lab we will learn how to:\n",
    "\n",
    " * derive descriptive values\n",
    " * access certain rows, columns or combinations thereof (i.e. cells of matrices)\n",
    " * visualise categorical variables\n",
    "\n",
    "Before we start the lab please run the following lines of code as they load the necessary libraries for this lab and ensure better graph quality.\n",
    "Note, that you will need to re-run this code cell each time you open your jupyter notebook file for the plots to work. "
   ]
  },
  {
   "cell_type": "code",
   "execution_count": null,
   "metadata": {},
   "outputs": [],
   "source": [
    "library(repr) \n",
    "options(repr.plot.width=4, repr.plot.height=4, repr.plot.res = 120)\n"
   ]
  },
  {
   "cell_type": "markdown",
   "metadata": {},
   "source": [
    "\n",
    "# Programming in R\n",
    "\n",
    "Programming can dramatically improve our ability to collect and analyse information about the world. In data science, the purpose of writing a program is to instruct a computer to carry out the steps of the analysis. Computers cannot study the world on their own. People must describe precisely what steps the computer should take to collect and analyse data, and those steps are expressed through programs.\n",
    "\n",
    "## Expressions\n",
    "\n",
    "Programming languages are much simpler than human languages. Nonetheless, there are some rules of grammar to learn in any language. We will use the R programming language. Learning the grammar rules is essential, and the same rules used in the most basic programs are also central to more sophisticated programs.\n",
    "\n",
    "Programs are made up of expressions, which describe to the computer how to combine pieces of data. For example, a multiplication expression consists of a `*` symbol between two numerical expressions. Expressions, such as `3*4`, are evaluated by the computer. The value (the result of evaluation) of the last expression in each cell is displayed below the cell."
   ]
  },
  {
   "cell_type": "code",
   "execution_count": null,
   "metadata": {
    "lines_to_next_cell": 0
   },
   "outputs": [],
   "source": [
    "3*4"
   ]
  },
  {
   "cell_type": "markdown",
   "metadata": {
    "lines_to_next_cell": 0
   },
   "source": [
    "Sometimes there are multiple expressions we can use. The exponential function for instance consists of a either a `**` symbol or a `^` symbol. Take a look at the code cell below."
   ]
  },
  {
   "cell_type": "code",
   "execution_count": null,
   "metadata": {
    "lines_to_next_cell": 0
   },
   "outputs": [],
   "source": [
    "3**4\n",
    "3^4"
   ]
  },
  {
   "cell_type": "markdown",
   "metadata": {
    "lines_to_next_cell": 0
   },
   "source": [
    "The symbols `*` and `**` are called operators, and the values they combine are called operands.\n",
    "\n",
    "## Common Operators.\n",
    "Data science often involves combining numerical values, and the set of operators in a programming language are designed so that expressions can be used to express any arithmetic. In R, the following operators are essential.\n",
    "\n",
    "### Expression\n",
    "<ul>\n",
    "  <li>\n",
    "    Type: Addition<br>\n",
    "    Operator: +<br>\n",
    "    Example: 2 + 3<br>\n",
    "    Value: 5\n",
    "  </li>\n",
    "\n",
    "  <li>\n",
    "Type: Subtraction<br>\n",
    "Operator: -<br>\n",
    "Example: 2 - 3<br>\n",
    "Value: -1\n",
    "  </li>\n",
    "\n",
    "  <li>\n",
    "Type: Division<br>\n",
    "Operator: /<br>\n",
    "Example: 6/4<br>\n",
    "Value: 1.5\n",
    "  </li>\n",
    "    \n",
    "  <li>\n",
    "Type: Multiplication<br>\n",
    "Operator: *<br>\n",
    "Example: 2*3<br>\n",
    "Value: 6\n",
    "  </li>\n",
    "\n",
    "\n",
    "  <li>\n",
    "Type: Exponentiation<br>\n",
    "Operator: ^<br>\n",
    "Example: 2^0.5<br>\n",
    "Value: 1.4142\n",
    "  </li>\n",
    "\n",
    "\n",
    "</ul>\n",
    "\n",
    "\n",
    "\n",
    "R expressions obey the same familiar rules of precedence as in algebra: Multiplication and division occur before addition and subtraction. Parentheses can be used to group together smaller expressions within a larger expression."
   ]
  },
  {
   "cell_type": "code",
   "execution_count": null,
   "metadata": {},
   "outputs": [],
   "source": [
    "1 + 2 * 3 "
   ]
  },
  {
   "cell_type": "markdown",
   "metadata": {},
   "source": [
    "and"
   ]
  },
  {
   "cell_type": "code",
   "execution_count": null,
   "metadata": {},
   "outputs": [],
   "source": [
    "(1+2)*3"
   ]
  },
  {
   "cell_type": "markdown",
   "metadata": {
    "lines_to_next_cell": 0
   },
   "source": [
    "Learning about a program sometimes involves trying out things and investigating the behaviour of the computer. What happens if you divide by zero? What happens if you divide twice in a row? You don't always need to ask an expert (or the internet); many of these details can be discovered by trying them out yourself! Simply select 'Insert' -> 'Insert Cell Below' from the toolbar to create a new code cell where you can perform additional calculations whenever you like.\n"
   ]
  },
  {
   "cell_type": "markdown",
   "metadata": {},
   "source": [
    "# Exercise 1: Tables\n",
    "\n",
    "Tables are a fundamental way of representing data sets. A table can be viewed in two ways:\n",
    "\n",
    "* a sequence of named columns that each describe a single attribute of all entries in a data set, or\n",
    "* a sequence of rows that each contain all information about a single individual in a data set.\n",
    "\n",
    "Last week you have learned how to read in data using the `read.csv()` command. R has a couple of internal dataframes which do not need to be read in. One example is the 'iris' dataframe. We can access it directly. "
   ]
  },
  {
   "cell_type": "code",
   "execution_count": null,
   "metadata": {},
   "outputs": [],
   "source": [
    "head(iris)"
   ]
  },
  {
   "cell_type": "markdown",
   "metadata": {},
   "source": [
    "Here is some additional information on the 5 variables: The datafile contains three plant species (setosa, virginica, versicolor) and four features measured for each sample, the length and the width of the sepals and petals, in centimeters.\n",
    "\n",
    "Use the abilities you have learned last week to get an overview of the entire dataframe as well as a better understanding of the individual variables contained in the dataframe.\n",
    "* How many variables does the dataframe contain?\n",
    "* What type of variables are they?\n",
    "* If they are categorical variables, how many levels do they have?\n",
    "* How many individual plants did we observe?\n",
    "\n",
    "We shall now try to extract information from rows and columns individually."
   ]
  },
  {
   "cell_type": "markdown",
   "metadata": {},
   "source": [
    "In R the boxed brackets allow us to identify certain positions in a vector. We did this last week. The same is true when we deal with matrices. Positions in matrices are identified via a row and a column index number, separated by a comma. If you want to see the first row of a table only, you can for instance use the method below, where the specification of the columns is omitted and therefore all columns (of the first row) are shown."
   ]
  },
  {
   "cell_type": "code",
   "execution_count": null,
   "metadata": {},
   "outputs": [],
   "source": [
    "iris[1,]"
   ]
  },
  {
   "cell_type": "markdown",
   "metadata": {},
   "source": [
    "If instead you would like to see just a certain column of the table, you can omit the row index. The following code for instance will only show the last column."
   ]
  },
  {
   "cell_type": "code",
   "execution_count": null,
   "metadata": {},
   "outputs": [],
   "source": [
    "iris[,5]"
   ]
  },
  {
   "cell_type": "markdown",
   "metadata": {},
   "source": [
    "Accessing multiple rows or columns can be acomplished by using a vector which indicates the rows or columns we would like to look at. For example:"
   ]
  },
  {
   "cell_type": "code",
   "execution_count": null,
   "metadata": {},
   "outputs": [],
   "source": [
    "iris[c(1,2,3),]"
   ]
  },
  {
   "cell_type": "markdown",
   "metadata": {},
   "source": [
    "Or if you just want to extract a unique information, for example, the sepal length of the 10th observed plant, you can use: "
   ]
  },
  {
   "cell_type": "code",
   "execution_count": null,
   "metadata": {},
   "outputs": [],
   "source": [
    "iris[10,1]"
   ]
  },
  {
   "cell_type": "markdown",
   "metadata": {},
   "source": [
    "You can view all columns but one by using the `-` sign when specifying the indices."
   ]
  },
  {
   "cell_type": "code",
   "execution_count": null,
   "metadata": {},
   "outputs": [],
   "source": [
    "iris[,-3]"
   ]
  },
  {
   "cell_type": "markdown",
   "metadata": {},
   "source": [
    "Now, what if we wanted to analyse the sepal length for the setosa flowers only? The code in the cell below creates a table consisting only of the rows corresponding to the species 'setosa'.\n",
    "\n",
    "<p style=\"font-family:'Source Sans Pro','Helvetica Neue',Helvetica,Arial,sans-serif\">\n",
    "iris[iris[,5] == \"setosa\",]\n",
    "</p>\n",
    "\n",
    "Try it out using the empty cell below.\n"
   ]
  },
  {
   "cell_type": "code",
   "execution_count": null,
   "metadata": {},
   "outputs": [],
   "source": [
    "# This cell should be used to create a table consisting only of the setosa flowers."
   ]
  },
  {
   "cell_type": "markdown",
   "metadata": {},
   "source": [
    "The syntax contains the logical operator `==` which we will explain in greater detail later in this unit. For now, we offer the following quick explanation: In contrary to the assignment operator `=` the logical operator `==` compares the two sides and hence only those rows of the iris dataset are selected for which the fifth column (i.e. the 'Species' variable) is equal to \"setosa\".\n",
    "\n",
    "Now turn to your assignment questions referring to Exercise 1."
   ]
  },
  {
   "cell_type": "markdown",
   "metadata": {},
   "source": [
    "# Exercise 2: Summary Statistics\n",
    "\n",
    "You have already learned how to read in data using the `read.csv()` command last week. **Again: Make sure that the .csv file you try to read in is saved in the same directory as this jupyter notebook file**. When we read in and look at data files it is often difficult to comprehend what information is accessible, especially for large data files, when we look at many variables with hundreds or even thousands of observations. In order to simplify the information so called \"descriptives\" are helpful. Better even, we can use what is called the \"summary statistics\", which amongst other descriptive values generally includes measures of central tendency like the mean and median. Those characteristics will give us an idea about our data without going through a long list of individual data points.  \n",
    "For you to practice this firstly load the temperature dataset from last week."
   ]
  },
  {
   "cell_type": "code",
   "execution_count": null,
   "metadata": {},
   "outputs": [],
   "source": [
    "weather <- read.csv(\"lab3-perth_weather.csv\")\n",
    "head(weather)"
   ]
  },
  {
   "cell_type": "markdown",
   "metadata": {},
   "source": [
    "This dataframe contains three variables; the year of measurement, the month of measurement and the average temperature of that month. To view how these three variables are measured, use the `head()` command. Now, create the summary statistics for the temperature using the `summary()` command. You can use the cell below to do so. Remember that you can access an individual variable via 'datafile-name$variable-name'."
   ]
  },
  {
   "cell_type": "code",
   "execution_count": null,
   "metadata": {},
   "outputs": [],
   "source": [
    "# this space should be used to create the summary statistic for temperature."
   ]
  },
  {
   "cell_type": "markdown",
   "metadata": {},
   "source": [
    "Based on the summary statistics answer the following questions: \n",
    "\n",
    "*What is the mean of 'average.temp'?*\n",
    "\n",
    "*What is the median of 'average.temp'?*\n",
    "\n",
    "*What is the highest observed average temperature?*\n"
   ]
  },
  {
   "cell_type": "markdown",
   "metadata": {},
   "source": [
    "Note that R thinks that both 'year' and 'month' are numerical variables, which is why we can run the `summary()` command with those variables as well if we wanted to. However, both are categorical variables of course and calculating measures like the mean and the median becomes a void exercise (although numerically possible). For categorical variables we are only interested in how often the different levels appeared in our dataset. Before we can extract that information, we need to convert 'year' and 'month' into categorical variables using the `as.factor()` command."
   ]
  },
  {
   "cell_type": "code",
   "execution_count": null,
   "metadata": {},
   "outputs": [],
   "source": [
    "weather$month <- as.factor(weather$month)\n",
    "levels(weather$month)"
   ]
  },
  {
   "cell_type": "code",
   "execution_count": null,
   "metadata": {},
   "outputs": [],
   "source": [
    "length(levels(weather$month))"
   ]
  },
  {
   "cell_type": "markdown",
   "metadata": {},
   "source": [
    "Study the code above and then turn to your assignment and answer the questions regarding Exercise 2 of this lab sheet."
   ]
  },
  {
   "cell_type": "markdown",
   "metadata": {},
   "source": [
    "\n"
   ]
  },
  {
   "cell_type": "markdown",
   "metadata": {},
   "source": [
    "## How to round your results using R\n",
    "\n",
    "It is common to round to 2, 3 or 4 decimal places to report numerical results. In R, we can use the `round` command to round results. For instance, try the code below:"
   ]
  },
  {
   "cell_type": "code",
   "execution_count": null,
   "metadata": {
    "lines_to_next_cell": 0
   },
   "outputs": [],
   "source": [
    "round(3.1234847452345, 3)"
   ]
  },
  {
   "cell_type": "markdown",
   "metadata": {},
   "source": [
    "The number '3.1234847452345' was rounded to 3 decimal places. The syntax of the function is as follows:\n",
    "`round(x,digit)` where 'x' is the value to be rounded, and digit is the precision of rounding. Try the code below and study the results:"
   ]
  },
  {
   "cell_type": "code",
   "execution_count": null,
   "metadata": {},
   "outputs": [],
   "source": [
    "round(sqrt(2),2)\n",
    "round(sqrt(2),3)\n",
    "round(sqrt(2),4)\n",
    "round(sqrt(2),5)"
   ]
  },
  {
   "cell_type": "markdown",
   "metadata": {},
   "source": [
    "We can also use the 'round' function on vectors."
   ]
  },
  {
   "cell_type": "code",
   "execution_count": null,
   "metadata": {},
   "outputs": [],
   "source": [
    "round(c(-1.23456, 12.3456, 1.23456), 3)"
   ]
  },
  {
   "cell_type": "markdown",
   "metadata": {},
   "source": [
    "Also try the following code and see what it does."
   ]
  },
  {
   "cell_type": "code",
   "execution_count": null,
   "metadata": {},
   "outputs": [],
   "source": [
    "x <- seq(from=-1, to=1, by=0.01)\n",
    "round(x,1)"
   ]
  },
  {
   "cell_type": "markdown",
   "metadata": {},
   "source": [
    "# Exercise 3: Visualisation of categorical variables\n",
    "\n",
    "Last week you created histograms for the Perth weather data. Today, you will learn how to create visualisations for categorical variables in R. The following datafile contains information on 626 people with or without tattoos and whether they have hepatitis C. Read in the datafile and familiarize yourself with it using the `head` and the `summary` commands. "
   ]
  },
  {
   "cell_type": "code",
   "execution_count": null,
   "metadata": {},
   "outputs": [],
   "source": [
    "Tat <- read.csv(\"lab3-tattoo.csv\")\n",
    "head(Tat)"
   ]
  },
  {
   "cell_type": "markdown",
   "metadata": {},
   "source": [
    "Data from categorical variables can be referred to as 'count data', which is usually visualised via barplots or pie charts. The following lines of code will create a barplot for the 'hepatitis C' variable."
   ]
  },
  {
   "cell_type": "code",
   "execution_count": null,
   "metadata": {},
   "outputs": [],
   "source": [
    "counts <- table(Tat$Hep.C)\n",
    "barplot(counts)"
   ]
  },
  {
   "cell_type": "markdown",
   "metadata": {},
   "source": [
    "In the above we made use of the 'table' function. Use `?table` to read up on it if you like. Let's see what this command does on its own. "
   ]
  },
  {
   "cell_type": "code",
   "execution_count": null,
   "metadata": {},
   "outputs": [],
   "source": [
    "table(Tat$Hep.C)"
   ]
  },
  {
   "cell_type": "markdown",
   "metadata": {},
   "source": [
    "As you can see, it produces the counts for each level of the categorical variable which we feed it with. \n",
    "Repeat the procedure from above to create a barplot for the 'Tattoo' variable now. Manipulate the code accordingly. Use the cell below to do so."
   ]
  },
  {
   "cell_type": "code",
   "execution_count": null,
   "metadata": {},
   "outputs": [],
   "source": [
    "# This cell should be used to generate a barplot for the \"Tattoo\" variable."
   ]
  },
  {
   "cell_type": "markdown",
   "metadata": {},
   "source": [
    "For this particular dataset we might be interested in the relationship between the two variables. A first step in this direction is to create a so called 'contingency table' which list the levels of one variable as its rows and the levels of the other variable as its columns. Within each cell of the table the count of the respective category (i.e. combination of levels) is displayed. Again, you can use the `table()` command to achieve this using both variables as arguments of the function."
   ]
  },
  {
   "cell_type": "code",
   "execution_count": null,
   "metadata": {},
   "outputs": [],
   "source": [
    "table(Tat$Hep.C, Tat$Tattoo)"
   ]
  },
  {
   "cell_type": "markdown",
   "metadata": {},
   "source": [
    "Similarly to the `table()` command, the `prop.table()` command produces relative counts. As you can see from the syntax below, `prop.table()` expects a table as input though.  "
   ]
  },
  {
   "cell_type": "code",
   "execution_count": null,
   "metadata": {},
   "outputs": [],
   "source": [
    "x <- table(Tat$Hep.C, Tat$Tattoo)\n",
    "prop.table(x)\n",
    "?prop.table"
   ]
  },
  {
   "cell_type": "markdown",
   "metadata": {},
   "source": [
    "The `prop.table()`function can handle a second argument, which is called 'margin'. If we opt to use this argument, we can view so-called row or column marginal frequencies. For example:"
   ]
  },
  {
   "cell_type": "code",
   "execution_count": null,
   "metadata": {},
   "outputs": [],
   "source": [
    "prop.table(x,1)"
   ]
  },
  {
   "cell_type": "markdown",
   "metadata": {},
   "source": [
    "yields the marginal row frequencies. We interpret these as follows: Amongst those people who do not suffer from hepatitis C, 85.57% have no tattoo, 8.7% have a non-parlor and 5.74% have a parlor tattoo. Similarly, for those people who suffer from hepatitis C, 41.18% have no tattoo, 21.57% have a non-parlor and 37.25 have a parlor tattoo. Now, change the second argument of the `prop.table()`function to 2 to view the marginal column frequencies and interpret them!"
   ]
  },
  {
   "cell_type": "markdown",
   "metadata": {},
   "source": [
    "Finalise this week's lab sheet now by answering the remaining questions in your assignment. Please round all results to 3 decimal places. Following zero's can of course be omitted. For example, state 2.5 as 2.5 and not as 2.500. Good luck!"
   ]
  }
 ],
 "metadata": {
  "kernelspec": {
   "display_name": "R",
   "language": "R",
   "name": "ir"
  },
  "language_info": {
   "codemirror_mode": "r",
   "file_extension": ".r",
   "mimetype": "text/x-r-source",
   "name": "R",
   "pygments_lexer": "r",
   "version": "4.1.2"
  }
 },
 "nbformat": 4,
 "nbformat_minor": 4
}
