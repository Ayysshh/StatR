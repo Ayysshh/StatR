{
 "cells": [
  {
   "cell_type": "markdown",
   "metadata": {},
   "source": [
    "# Lab week 11 - Outcomes\n",
    "\n",
    "\n",
    "In this lab you should read through and run the code in the lab sheet and complete the lab assessment. By the end of this lab you should be able to use R to:\n",
    "\n",
    "* Use two-sided confidence intervals to make a decision.\n",
    "* Construct one-sided confidence intervals.\n",
    "* Use the p-value to make a test decision.\n",
    "\n",
    "\n",
    "Please run the following line of code for the purpose of better graph quality.\n",
    "\n"
   ]
  },
  {
   "cell_type": "code",
   "execution_count": null,
   "metadata": {},
   "outputs": [],
   "source": [
    "options(repr.plot.width=4, repr.plot.height=4, repr.plot.res = 120)"
   ]
  },
  {
   "cell_type": "markdown",
   "metadata": {},
   "source": [
    "**Also run the next block of code please. It ensures that random sampling is reproducible. You need to re-run this block every time you restart the lab sheet!!!**"
   ]
  },
  {
   "cell_type": "code",
   "execution_count": null,
   "metadata": {},
   "outputs": [],
   "source": [
    "## You MUST run this code (every time you open the lab sheet).\n",
    "aux <- version\n",
    "if (((as.numeric(aux$major) >= 3) && (as.numeric(aux$minor) >= 6)) || (as.numeric(aux$major) >= 4)) {\n",
    "  RNGkind(kind = \"Mersenne-Twister\", normal.kind = \"Inversion\", sample.kind = \"Rounding\")\n",
    "} else {\n",
    "  RNGkind(kind = \"Mersenne-Twister\", normal.kind = \"Inversion\")\n",
    "}\n",
    "\n",
    "set.seed(12345)\n",
    "cat(\"1st check: 5 = \",sample(1:6,1),\"\\n\",sep=\"\")\n",
    "cat(\"2nd check: 9 = \",ceiling(runif(1,0,10)),\"\\n\",sep=\"\")\n",
    "cat(\"If the statements above are right, then it is ok.\\n\",sep=\"\")\n",
    "cat(\"\\n\",sep=\"\")\n",
    "cat(\"If you get a warning message as below, this is ok. \\n   'Warning message in RNGkind(kind = \",'\"',\"Mersenne-Twister\",'\"',\n",
    "    \", normal.kind = \",'\"',\"Inversion\",'\"',\", :\\n\",'   \"',\"non-uniform 'Rounding' sampler used\",'\"',\"\\n\",sep=\"\")"
   ]
  },
  {
   "cell_type": "markdown",
   "metadata": {},
   "source": [
    "# Hypothesis Testing via Confidence Intervals\n",
    "\n",
    "\n",
    "Last week we learned how to construct confidence intervals. This week, we will learn how such confidence intervals enable us to make test decisions for hypothesis tests.\n"
   ]
  },
  {
   "cell_type": "markdown",
   "metadata": {},
   "source": [
    "# Exercise 1.1: Test on the Mean via Confidence Interval\n",
    "\n",
    "Let's go back to the \"pregnancy\" datafile, which amongst other information contains the mother's weight in pounds.\n",
    "We will now build confidence intervals similar to last week to test the following hypothesis pair: $H_0: \\mu = 126$ vs. $H_1: \\mu \\neq 126$, where $\\mu$ is the population mean of pregnancy weights.\n",
    "To do so we will:\n",
    "\n",
    "- Treat the entire dataframe as the \"original\" sample.\n",
    "- Bootstrap 2000 replications of the sample mean.\n",
    "- Construct a confidence interval.\n",
    "- Make a test decision.\n",
    "\n",
    "Upload the datafile first and recall the following code for the first two steps from above."
   ]
  },
  {
   "cell_type": "code",
   "execution_count": null,
   "metadata": {},
   "outputs": [],
   "source": [
    "pregnancy =  read.csv(\"week11-pregnancy.csv\", header = T, sep = \",\")\n",
    "head(pregnancy)"
   ]
  },
  {
   "cell_type": "code",
   "execution_count": null,
   "metadata": {},
   "outputs": [],
   "source": [
    "set.seed(1400)\n",
    "\n",
    "original = pregnancy$Maternal.Pregnancy.Weight\n",
    "\n",
    "\n",
    "bootstrap_mean = function(replications)\n",
    "{ \n",
    "  boot_mean = c()\n",
    "  for(i in 1 : replications)\n",
    "     { \n",
    "       bootstrap_sample = original[sample(length(original), size = length(original), replace = T)]\n",
    "       boot_mean[i] = mean(bootstrap_sample)\n",
    "     }\n",
    "  return(boot_mean)    \n",
    "}\n",
    "\n",
    "result <- bootstrap_mean(2000)"
   ]
  },
  {
   "cell_type": "markdown",
   "metadata": {},
   "source": [
    "The variable \"result\" now contains 2000 bootstrapped means of maternal pregnancy weight. Construct confidence intervals based on those 2000 means as indicated in your assignment, and make a decision regarding the above hypothesis pair based on those intervals. \n",
    "\n",
    "Hint: This decision can be made based on whether $\\mu_0 = 126$ falls inside (do NOT reject $H_0$) or outside (reject $H_0$) the confidence interval."
   ]
  },
  {
   "cell_type": "code",
   "execution_count": null,
   "metadata": {},
   "outputs": [],
   "source": [
    "# use this block to construct confidence intervals."
   ]
  },
  {
   "cell_type": "markdown",
   "metadata": {},
   "source": [
    "# One-sided confidence intervals\n",
    "\n",
    "Note that in Exercise 1.1 we tested whether the population mean of mother's pregnancy weight is equal to ($H_0$) or unequal to ($H_1$) 126 pounds. Correspondingly, we had to construct a two-sided confidence interval. However, confidence intervals can also be one-sided depending on the situation at hand. For example, if one is only interested to find a lower limit of the parameter of interest, a \"lower one-sided CI\" $[LB,\\infty)$ is helpful.\n",
    "Analogously, $(-\\infty, UB]$ is called an upper one-sided CI.\n"
   ]
  },
  {
   "cell_type": "markdown",
   "metadata": {},
   "source": [
    "# Exercise 1.2:"
   ]
  },
  {
   "cell_type": "markdown",
   "metadata": {},
   "source": [
    "Repeat the process from Exercise 1.1 for the flight data from a couple of weeks ago. Treat the dataframe below as your sample which you bootstrap from. Test whether the true average delay is equal to 16 minutes.  "
   ]
  },
  {
   "cell_type": "code",
   "execution_count": null,
   "metadata": {},
   "outputs": [],
   "source": [
    "flights =  read.csv(\"week11-united_summer2015.csv\", header = T, sep = \",\")\n",
    "head(flights)\n",
    "nrow(flights)"
   ]
  },
  {
   "cell_type": "code",
   "execution_count": null,
   "metadata": {},
   "outputs": [],
   "source": [
    "set.seed(1400)\n",
    "\n",
    "# use this block to repeat the bootstrap and find the one sided confidence intervals. Then make your test decision(s). \n"
   ]
  },
  {
   "cell_type": "markdown",
   "metadata": {},
   "source": [
    "# Exercise 1.3: Test on the Proportion via Confidence Interval\n",
    "\n",
    "We will now aim to perform a hypothesis test on the true proportion $\\pi$ of flights headed for Newark Liberty International Airport (EWR). This information can be accessed via the 'Destination' variable. We will use the subset command for this. As always, use `?subset` if you want to learn more about this command."
   ]
  },
  {
   "cell_type": "code",
   "execution_count": null,
   "metadata": {},
   "outputs": [],
   "source": [
    "summary(flights)\n",
    "\n",
    "# number of flights\n",
    "nrow(flights)\n",
    "\n",
    "# number of flights that went to Los Angeles\n",
    "Newark = subset(flights, flights$Destination == \"EWR\")\n",
    "nrow(Newark)\n",
    "\n",
    "# relative frequency\n",
    "nrow(Newark)/nrow(flights)\n"
   ]
  },
  {
   "cell_type": "markdown",
   "metadata": {},
   "source": [
    "As we can see, the sample proportion of flights headed for Newark is roughly 9.56%. Let's assume United Arlines claimes that 10% of their domestic flights have destination Newark and motivated by the sample result we wanted to falsify this claim, i.e. test whether the true proportion is unequal to 10%. In other words: Is the sample result of 9.56% different enough from 10% to conclude that the true proportion is not 10%? We will now repeat the process from above to build a confidence interval for the true proportion to test this assertion, that is, we will simulate the distribution of the true proportion via 2000 bootstrapped replications based on the sample from above. Fill in the blanks in the code below to do so please."
   ]
  },
  {
   "cell_type": "code",
   "execution_count": null,
   "metadata": {},
   "outputs": [],
   "source": [
    "# THIS CODE BLOCK WILL HAVE TO BE MANIPULATED BY YOU TO WORK!\n",
    "# To do so, replace all \"...j...\" sections with the correct code for j=1,2,3,4.\n",
    "\n",
    "\n",
    "set.seed(1400)\n",
    "\n",
    "original = flights$Destination\n",
    "\n",
    "\n",
    "bootstrap_proportion = function(replications)\n",
    "{ \n",
    "  boot_proportion = c()\n",
    "  for(i in 1 : replications)\n",
    "     { \n",
    "       bootstrap_sample = original[sample(length(original), size = ...1... , replace = T)]\n",
    "       EWR.subset = subset(...2..., bootstrap_sample == \"EWR\")\n",
    "       boot_proportion[i] = length(...3...)/length(bootstrap_sample)\n",
    "      \n",
    "     }\n",
    "  return(...4...)    \n",
    "}\n",
    "\n",
    "result <- bootstrap_proportion(2000)"
   ]
  },
  {
   "cell_type": "markdown",
   "metadata": {},
   "source": [
    "The vector \"result\" now contains 2000 replicated proportions. Create a histogram if you like to visulise the distribution of those replications."
   ]
  },
  {
   "cell_type": "code",
   "execution_count": null,
   "metadata": {},
   "outputs": [],
   "source": [
    "hist(result)"
   ]
  },
  {
   "cell_type": "code",
   "execution_count": null,
   "metadata": {},
   "outputs": [],
   "source": [
    "# use this block to find the confidence intervals based on your 2000 replications. Then make your test decision(s). "
   ]
  },
  {
   "cell_type": "markdown",
   "metadata": {},
   "source": [
    "# Test on the Proportion via p-value.\n",
    "\n",
    "Instead of using confidence intervals to arrive at a test decisions, we can alternatively use **p-values** as you have learned in lecture. Study the corresponding lecture material, then take a look at the following example."
   ]
  },
  {
   "cell_type": "markdown",
   "metadata": {},
   "source": [
    "Do you remember the court example featuring Mike who was unhappy with the composition of his jury panel.\n",
    "\n",
    "Similarly to Mike your imaginary friend Freddy feels betrayed about his jury composition. In particular, Freddy is quite upset about the supposingly random selection of the jury panel, which consist of 100 people. Freddy is 65 years old and feels that his chances for a \"not-guilty\" verdict would depend on the amount of senior citizens on the jury. Without further details about why he feels that way or the crime he committed, let us investigate whether Freddy is right to feel betrayed.\n",
    "Freddy was told by his friend Francesca that exactly 32% of the population in his distract were senior citizens and therefore felt lied to when he found out that only 24 of the 100 people from the jury panel were seniors.\n",
    "\n",
    "To evaluate how likely or unlikely such an outcome really is under the given presumption that 32% of the population are seniors, we will follow the same steps as performed in lecture. First we take one random sample of the population described above."
   ]
  },
  {
   "cell_type": "code",
   "execution_count": null,
   "metadata": {},
   "outputs": [],
   "source": [
    "# creating the categories\n",
    "sample_space = c(\"Senior\",\"NonSenior\")\n",
    "\n",
    "# taking a random sample  \n",
    "sample_100 = sample(sample_space, size = 100, replace = T, prob = c(0.32, 0.68))\n",
    "\n",
    "# getting the count of the categories \n",
    "summary.factor(sample_100)\n",
    "\n",
    "# getting the proportion of the categories \n",
    "proportion_categories = summary.factor(sample_100)/100\n",
    "proportion_categories"
   ]
  },
  {
   "cell_type": "markdown",
   "metadata": {},
   "source": [
    "Clearly, the statistic of interest for our analysis is the sample proportion. If you run the code above multiple times, the output will vary since every simulation will have different outcomes. Recall that we already discussed that a statistic is based on the outcome of the sample and hence changes its value!?\n",
    "We now want to simulate the sample proportion 1000 times and report its distribution via a histogram to get an idea of how unlucky Freddy really was. Familiarise yourself with the following lines of code, then run them. "
   ]
  },
  {
   "cell_type": "code",
   "execution_count": null,
   "metadata": {},
   "outputs": [],
   "source": [
    "set.seed(1400)\n",
    "\n",
    "sample_space = c(\"Senior\",\"NonSenior\")\n",
    "samples <- c()\n",
    "\n",
    "for (i in 1: 1000) {\n",
    "    # as above code\n",
    "    sample_100 = sample(sample_space, size = 100, replace = T, prob = c(0.32, (1-0.32)))\n",
    "\n",
    "    # getting the count category\n",
    "    samples[i] = sum(sample_100 == \"Senior\")\n",
    "  }\n",
    "\n",
    "hist(samples)\n",
    "mean(samples)"
   ]
  },
  {
   "cell_type": "markdown",
   "metadata": {},
   "source": [
    "Based on the histogram, do you think that Freddy is right to claim he was lied to or did Franseca tell the truth and Freddy was just unlucky? \n",
    "\n",
    "Now, let's use R to visualise how unlucky Freddy would have been if 32% was indeed the true proportion."
   ]
  },
  {
   "cell_type": "code",
   "execution_count": null,
   "metadata": {},
   "outputs": [],
   "source": [
    "hist(samples, breaks = 30, xlab = \" Number of Senior Citiziens\", main = \"\")\n",
    "\n",
    "# showing observed value on the horizontal axis\n",
    "observed_statistic = 24\n",
    "points(observed_statistic, 0, pch = 16, col = \"red\")"
   ]
  },
  {
   "cell_type": "markdown",
   "metadata": {},
   "source": [
    "# Exercise 2.1\n",
    "We can calculate how many of our 1000 samples had an average of less than 24 seniors. That percentage is represented by the area to the left of the red dot in the above histogram. Recall from lecture that this area is commonly referred to as the **p-value**. P-values are very important in inferential statistics as they allow us to make test decisions. We hence recommend that you read and internalise its definition: **The p-value is the probability to observe such a result (24) or a more extreme result (<24) given the nullhypothesis is true.** Note that \"a more extreme result\" here means observing less than 24 seniors. \n",
    "A test decision based on the p-value is made according to the following rule: **If the p-value is smaller than (or equal to) the chosen significance level, then the null hypothesis can be rejected.**\n",
    "\n",
    "We will now calculate the p-value for our test using R. Recall that \"samples\" is a vector containing the observed number of seniors (out of 100) of 1000 simulations."
   ]
  },
  {
   "cell_type": "code",
   "execution_count": null,
   "metadata": {},
   "outputs": [],
   "source": [
    "# extracting the values that are <= 24 and calculating the corresponding proportion.\n",
    "p_value = length(samples[samples <= 24]) /1000\n",
    "p_value"
   ]
  },
  {
   "cell_type": "markdown",
   "metadata": {},
   "source": [
    "Based on the p-value of 0.046 Freddy has sufficient evidence to prove at a 5% significance level that the true proportion of senior citizens is in fact less than 32% and Francesca lied to him."
   ]
  },
  {
   "cell_type": "markdown",
   "metadata": {},
   "source": [
    "# Exercise 2.2\n",
    "\n",
    "Francesca herself acted as Freddy's companion and is on trial herself. Other than Freddy she is hoping for people under the age of 65 to be sitting on her jury panel. Based on our analysis above we can clearly tell that she must have only wanted to comfort Freddy when she told him that 32% of the population are seniors. In fact, a day before she told Freddy, her lawyer had just told her, that the proportion of non-seniors is believed to be 75%.\n",
    "\n",
    "When she gets 85 Non-Seniors on her jury panel, she feels extremely lucky, questions her lawyers information and suspects, that the actual proportion of Non-Seniors exceeds 75%.\n",
    "\n",
    "Perform the corresponding hypothesis test on the proportion of Non-Senior citizens. Follow the steps from above.\n",
    "\n",
    "Based on your analysis, how likely was Francesca to end up with a jury panel of 85 (or more) Non-Seniors? Is she right to feel lucky with that result or is 85 an outcome that could be expected under the assumption that 75% of the population are Non-Seniors?"
   ]
  },
  {
   "cell_type": "code",
   "execution_count": null,
   "metadata": {},
   "outputs": [],
   "source": [
    "set.seed(12345)\n",
    "sample_space = c(\"Senior\",\"NonSenior\")\n",
    "\n",
    "# use this cell to calculate the p-value based on the above information."
   ]
  },
  {
   "cell_type": "markdown",
   "metadata": {},
   "source": [
    "Please finalise this week's lab sheet now by answering the last of your assignment questions. Remember to round all results to 3 decimal places. Following zero's can of course as always be omitted. For example, state 2.5 as 2.5 and not as 2.500. \n",
    "\n",
    "Good luck!"
   ]
  }
 ],
 "metadata": {
  "kernelspec": {
   "display_name": "R",
   "language": "R",
   "name": "ir"
  },
  "language_info": {
   "codemirror_mode": "r",
   "file_extension": ".r",
   "mimetype": "text/x-r-source",
   "name": "R",
   "pygments_lexer": "r",
   "version": "4.1.1"
  }
 },
 "nbformat": 4,
 "nbformat_minor": 4
}
