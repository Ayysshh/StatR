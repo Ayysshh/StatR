{
 "cells": [
  {
   "cell_type": "markdown",
   "metadata": {
    "lines_to_next_cell": 0
   },
   "source": [
    "\n",
    "# Using R\n",
    "## Introduction\n",
    "\n",
    "In this lab we will learn how to:\n",
    "\n",
    " * Create variables\n",
    " * Use basic arithmetic\n",
    " * Import .csv data files\n",
    " * Create basic data visualizations\n",
    "\n",
    "## Creating variables in R\n",
    "\n",
    "A variable is a container storing a value. Contrary to other programming languages R does not have a command for declaring a variable, but instead a variable is created once a value is assigned to it. This can be done by using the assignment operator (i.e. `<-` or `=`). The variable name must start with a letter and can contain numbers and letters as well as the special characters underscore('_') and period('.'). Other special characters including white space (' ') are not allowed in variable names.\n",
    "\n",
    "Below is an example, which creates a variable called 'x' equaling to the sum of 4 and 5 and a variable called 'y' equaling to the product of 4 and 5.\n",
    "\n",
    "To run the following block of code, click on it and then press 'ctrl+enter' or select 'Run' from the toolbar. If you look to the right on that same toolbar you will notice that this cell here is a \"Markdown\" cell. We use Markdown cells to type texts within a jupyter notebook file. The following cell is a \"code\" cell in which we will perform all the R programming."
   ]
  },
  {
   "cell_type": "code",
   "execution_count": null,
   "metadata": {},
   "outputs": [],
   "source": [
    "x <- 4 + 5 # Creating the x value\n",
    "y = 4 * 5  # Creating the y value"
   ]
  },
  {
   "cell_type": "markdown",
   "metadata": {},
   "source": [
    "We have now created the two variables 'x' and 'y' which we can use from here onwards by simply typing 'x' or 'y'."
   ]
  },
  {
   "cell_type": "code",
   "execution_count": null,
   "metadata": {},
   "outputs": [],
   "source": [
    "x\n",
    "y"
   ]
  },
  {
   "cell_type": "markdown",
   "metadata": {},
   "source": [
    "Above you should see the printed values of x and y, where x is the addition of 4 and 5 and y is the multiplication of 4 and 5.\n",
    "We can also make use of the `cat()` command. This command will print all of its comma separated arguments. We will be using many R commands in this unit. While we will aim to give a detailed explanation to all of them, try to get used to finding out more about R commands yourself. The R internal help option will help you with this. To access it, simply type '?command_name', so for example `?cat`. Running the next code cell will open the R internal help page for the `cat()` function"
   ]
  },
  {
   "cell_type": "code",
   "execution_count": null,
   "metadata": {},
   "outputs": [],
   "source": [
    "?cat"
   ]
  },
  {
   "cell_type": "markdown",
   "metadata": {},
   "source": [
    "Now run the next chunk of code to see an example."
   ]
  },
  {
   "cell_type": "code",
   "execution_count": null,
   "metadata": {},
   "outputs": [],
   "source": [
    "# Printing the value\n",
    "cat(\"The value of x is:\",x, \"\\n\") # '\\n' is the same as pressing enter to go to the next line\n",
    "cat(\"The value of y is:\",y, \"\\n\")"
   ]
  },
  {
   "cell_type": "markdown",
   "metadata": {},
   "source": [
    "Also note how the first line of the above code starts with a hash key. Input that follows a hash key will not be compiled when running the code. We usually use the hash key to include comments to our code."
   ]
  },
  {
   "cell_type": "markdown",
   "metadata": {},
   "source": [
    "You can also create vectors in R. Similarly to variables, a vector is created once a value is assigned to it. The syntax of creating a vector features the assignment operator `<-`, followed by `c()` if elements are chosen manually. A different method is to use the `seq()` command, which creates a sequence of numbers from a to b in increments of c, where a,b and c are the three argument of the command. Again, to find out more, use `?seq`.\n",
    "Below are two examples of how to create a vector in R."
   ]
  },
  {
   "cell_type": "code",
   "execution_count": null,
   "metadata": {},
   "outputs": [],
   "source": [
    "# Creates a list of numbers\n",
    "x <- c(1,5,10,20,40)\n",
    "# Creates a list of numbers from 0 to 10 by increments of 1\n",
    "y <- seq(0,10,1)\n",
    "# Printing the value\n",
    "cat(\"The value of x is: \",x, \"\\n\")\n",
    "cat(\"The value of y is: \",y, \"\\n\")"
   ]
  },
  {
   "cell_type": "markdown",
   "metadata": {},
   "source": [
    "Note: Since we have now overwritten the previously assigned value of the variable x (which was 9) with the vector (1,5,10,20,40), this is the value we will now get if we type 'x'."
   ]
  },
  {
   "cell_type": "code",
   "execution_count": null,
   "metadata": {},
   "outputs": [],
   "source": [
    "x\n",
    "y"
   ]
  },
  {
   "cell_type": "markdown",
   "metadata": {},
   "source": [
    "### Exercise 1\n",
    "Try editing the code above to create a sequence from 0 to 5 by increments of 0.5. From the toolbar select \"Insert\" -> \"Insert Cell Below\" to add a code cell below where you will then perform and check your workings."
   ]
  },
  {
   "cell_type": "markdown",
   "metadata": {},
   "source": [
    "We can access certain elements of a vector via their position in the vector. For those of you who have been using Python or other programming languages before, note that R starts counting at 1. The syntax is easy, we simply use squared brackets after the vector name to access specific elements. \n",
    "For example, `x[1]` only produces the first value in x. To exclude elements we use the `-` sign. For example, `x[-1]` produces all but the first value of x."
   ]
  },
  {
   "cell_type": "markdown",
   "metadata": {},
   "source": [
    "### Exercise 2\n",
    "Use the empty code cell below to print a few individual values of x and y. Also try to produce the first and second value of x together. \n",
    "\n",
    "*Hint: `x[1,2]`is not the correct syntax. Why not and what is the correct syntax?*"
   ]
  },
  {
   "cell_type": "code",
   "execution_count": null,
   "metadata": {},
   "outputs": [],
   "source": [
    "# Try here\n",
    "\n",
    "\n"
   ]
  },
  {
   "cell_type": "markdown",
   "metadata": {},
   "source": [
    "## Basic Arithmetic in R\n",
    "\n",
    "Although it will not be our main aim in this unit we can of course use R as a calculator. The most basic arithmetic operations are shown below. Take a closer look to how the addition of the two vectors is done.\n",
    "\n",
    "* what would you intuitively expect R to do? \n",
    "* can you figure out how R actually computes the result? \n",
    "* are you able to formulate the observed as a general rule? "
   ]
  },
  {
   "cell_type": "code",
   "execution_count": null,
   "metadata": {
    "lines_to_next_cell": 0
   },
   "outputs": [],
   "source": [
    "3 + 5.5 ## Addition\n",
    "3 - 5.5 ## Subtraction\n",
    "3 * 5.5 ## Multiplication\n",
    "3 / 5.5 ## Division\n",
    "x*5\n",
    "y+10\n",
    "x+y"
   ]
  },
  {
   "cell_type": "markdown",
   "metadata": {},
   "source": [
    "The last line has the warning message 'longer object length is not a multiple of shorter object length'. This is due to the amount of elements in x not dividing the amount of elements in y. R will still produce a result by expanding the x vector to the size of the y vector by repeating its elements.\n",
    "\n",
    "\n",
    "### Exercise 3\n",
    "\n",
    "Now, create 3 variables as follows:\n",
    "\n",
    "  * a variable called 'g' that is equal to a sequence of natural numbers from 10 to 20.\n",
    "  * a variable called 'h' that is equal to the product of 3 and 25.\n",
    "  * a variable called 'i' that is set to the string \"Potato\".\n",
    "\n",
    "To check use the 'cat' function to print the variable name and the values that the variables hold."
   ]
  },
  {
   "cell_type": "code",
   "execution_count": null,
   "metadata": {},
   "outputs": [],
   "source": [
    "# Try your code here\n",
    "g <- seq(...)\n",
    "cat(\"g is the sequence:\", g, \"\\n\" )\n",
    "\n"
   ]
  },
  {
   "cell_type": "markdown",
   "metadata": {},
   "source": [
    "## Basic Math Functions in R\n",
    "\n",
    "Above we looked at basic arithmetic operations in R, now we will look at some basic math functions in R. Below is a list of basic math functions you can use in R:\n",
    "\n",
    "* *log(x)*: Natural log of x\n",
    "* *exp(x)*: Exponential of x\n",
    "* *max(x)*: Largest element in the set x\n",
    "* *min(x)*: Smallest element in the set x\n",
    "* *sum(x)*: Sum all values in x\n",
    "* *mean(x)*: Mean of x\n",
    "* *median(x)*: Median of x\n",
    "* *round(x,n)*: Round x to n decimal places\n",
    "* *length(x)*: Number of values in x\n",
    "\n",
    "Once again it is emphasized that `?'function'` will provide you with much more detailed information.\n"
   ]
  },
  {
   "cell_type": "markdown",
   "metadata": {},
   "source": [
    "### Exercise 4\n",
    "\n",
    "We will now consider a vector called 'z' which has 20 elements."
   ]
  },
  {
   "cell_type": "code",
   "execution_count": null,
   "metadata": {
    "lines_to_next_cell": 0
   },
   "outputs": [],
   "source": [
    "z <- c(6.0780998 , 6.8926461 , 2.3485093 , 2.8557398 , 5.7849268 , 0.3145299,  1.0983729, 8.4636561 , 8.9633093 , \n",
    "       8.4354148,  9.0497666 , 5.9048839 , 4.1272612 ,-4.7378608 , -1.3372997 , 2.9143154 , 8.0774442 , 7.1303078,  \n",
    "       9.9144950 , 10.1626416)\n",
    "\n",
    "# 1) Calculate: 1) the log of the third value\n",
    "\n",
    "# 2) Maximum of z\n",
    "\n",
    "# 3) Mean of the first 10 elements of z\n",
    "\n",
    "# 4) Median of z\n",
    "\n",
    "# 5) Exponential of all elements of z which you will save in a variable called 'Exp.z'\n",
    "\n",
    "# Print all but the first and the last element of 'Exp.z'\n"
   ]
  },
  {
   "cell_type": "markdown",
   "metadata": {},
   "source": [
    "## Reading in csv (data) files\n",
    "\n",
    "It is very common wanting to read in data from a different file, for example a .csv (comma-separated values) file. To do this you can use the `read.csv` command. **Make sure that this notebook is saved in the same location on your computer as the 'perth_mean_max_temp.csv' file** before you run the following line of code."
   ]
  },
  {
   "cell_type": "code",
   "execution_count": null,
   "metadata": {},
   "outputs": [],
   "source": [
    "Perth.weather <- read.csv(\"perth_mean_max_temp.csv\")"
   ]
  },
  {
   "cell_type": "markdown",
   "metadata": {
    "lines_to_next_cell": 0
   },
   "source": [
    "We have now created a variable called 'Perth.weather' which is a dataframe containing all the information from the .csv file. This includes the average temperature in Perth based on the year and the month it was taken. \n",
    "\n",
    "It is often helpful to use the `head()` function to get a broad overview of the variables that are contained in the dataframe as well as the different variable levels. Simply run the following code to view the first 6 rows of the dataframe 'Perth.weather'."
   ]
  },
  {
   "cell_type": "code",
   "execution_count": null,
   "metadata": {},
   "outputs": [],
   "source": [
    "head(Perth.weather)"
   ]
  },
  {
   "cell_type": "markdown",
   "metadata": {
    "lines_to_next_cell": 0
   },
   "source": [
    "We can access individual variables of a dataframe using the `$` sign separating the dataframe and the variable name.\n",
    "Note that the dataframe name has to go first. Try to fully understand the following lines of code which will also be a good indication as to whether you have taken in some of the content from today's lab.\n",
    "Examples:"
   ]
  },
  {
   "cell_type": "code",
   "execution_count": null,
   "metadata": {},
   "outputs": [],
   "source": [
    "Perth.weather$temp\n",
    "length(Perth.weather$temp)\n",
    "max(Perth.weather$temp)\n",
    "max(Perth.weather$year)\n",
    "mean(Perth.weather$month)"
   ]
  },
  {
   "cell_type": "markdown",
   "metadata": {},
   "source": [
    "* How does the output of the first two lines of code relate? \n",
    "* What are your thoughts on the last calculation, i. e. the mean of the 'month' variable? "
   ]
  },
  {
   "cell_type": "markdown",
   "metadata": {
    "lines_to_next_cell": 0
   },
   "source": [
    "### Exercise 5\n",
    "\n",
    "* Can you change the above statement to print the first 20 values of the 'temp' variable only?\n",
    "* In which year do we observe the coldest average temperature?\n"
   ]
  },
  {
   "cell_type": "markdown",
   "metadata": {},
   "source": [
    "# Data visualization\n",
    "\n",
    "In the last part of today's lab we will explore some basic plots. It is important to be clear of the data type for each variable to do so. Can you name the data type of each variable from the 'Perth.weather' dataframe? Why was it hence void to calculate the mean of 'month'?"
   ]
  },
  {
   "cell_type": "markdown",
   "metadata": {},
   "source": [
    "Firstly, we will look at the histogram of the temperature values. To create this histogram we will be using the package 'ggplot2', which will have to be loaded first. This is achieved by the the following lines of code. Simply run the code below to load the 'ggplot2' package."
   ]
  },
  {
   "cell_type": "code",
   "execution_count": null,
   "metadata": {},
   "outputs": [],
   "source": [
    "library(ggplot2)"
   ]
  },
  {
   "cell_type": "markdown",
   "metadata": {},
   "source": [
    "Using the `ggplot` and the `geom_histogram` function together you can create a histogram of the 'temp' values. Try playing around with the 'bins' argument to change the appearance of the histogram. What happens when you increase the 'bins' value? What happens when you decrease it?"
   ]
  },
  {
   "cell_type": "code",
   "execution_count": null,
   "metadata": {},
   "outputs": [],
   "source": [
    "ggplot(data=Perth.weather, mapping= aes(x=temp))+ geom_histogram(bins=2)"
   ]
  },
  {
   "cell_type": "markdown",
   "metadata": {},
   "source": [
    "The `ggplot` function also allows you to change the appearance of the histogram, for example changing the labels, adding a title and changing the colours. Study the code below and try to familiarise yourself with the different arguments of the function. Again: `?ggplot`, `?geom_histogram`, `?geom_vline` and `?labs` might prove fruitful to get more information. \n",
    "\n",
    "**Hint: Use 'ctrl+z' to undo your previous change(s) if you want to get back to the original code!!!**"
   ]
  },
  {
   "cell_type": "code",
   "execution_count": null,
   "metadata": {},
   "outputs": [],
   "source": [
    "ggplot(data= Perth.weather, mapping = aes(x=temp,stat(density))) +\n",
    "  geom_histogram(binwidth = 2, col=\"black\",fill=\"red\") +\n",
    "  geom_vline(aes(xintercept = mean(temp)), color=\"blue\" , size = 1, linetype = \"dashed\") +\n",
    "  labs(title = \"Histogram Example\", x= \"Temperature\")\n"
   ]
  },
  {
   "cell_type": "markdown",
   "metadata": {
    "lines_to_next_cell": 0
   },
   "source": [
    "If we wanted to compare the temperature values for each month we can use the following code:"
   ]
  },
  {
   "cell_type": "code",
   "execution_count": null,
   "metadata": {
    "lines_to_next_cell": 2
   },
   "outputs": [],
   "source": [
    "ggplot(data= Perth.weather, mapping = aes(x=temp)) +\n",
    "    geom_histogram(binwidth = 2, col=\"black\",fill=\"grey\") +\n",
    "  labs( x= \"Temperature\") + facet_wrap(~month)"
   ]
  },
  {
   "cell_type": "markdown",
   "metadata": {},
   "source": [
    "Well done for today! There will be no assignment accompanying this week's lab sheet. Assignments will start from next week. Try to solve the provided sample questions nonetheless as they will give you an idea of what future assignments will look like!"
   ]
  }
 ],
 "metadata": {
  "kernelspec": {
   "display_name": "R",
   "language": "R",
   "name": "ir"
  },
  "language_info": {
   "codemirror_mode": "r",
   "file_extension": ".r",
   "mimetype": "text/x-r-source",
   "name": "R",
   "pygments_lexer": "r",
   "version": "4.1.2"
  }
 },
 "nbformat": 4,
 "nbformat_minor": 4
}
