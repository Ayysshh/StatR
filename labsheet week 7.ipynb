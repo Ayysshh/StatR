{
 "cells": [
  {
   "cell_type": "markdown",
   "metadata": {},
   "source": [
    "# Lab week 7 - Outcomes \n",
    "\n",
    "\n",
    "In this lab you should read through and run the code in the lab sheet and complete the lab assessment. By the end of this lab you should be able to use R to:\n",
    "\n",
    "\n",
    "* sample data from different discrete and continuous distributions in R\n",
    "* visualise the samples\n",
    "* calculate expectation and variance of random variables in R\n",
    "* calculate probabilities and quantiles of random variables in R\n",
    "* learn about the sample distribution \n",
    "\n",
    "\n",
    "\n",
    "Run the following code for better sized graphics.\n",
    "**Also it ensures that random sampling is reproducible. You need to re-run this block every time you restart the lab sheet!!!**"
   ]
  },
  {
   "cell_type": "code",
   "execution_count": null,
   "metadata": {},
   "outputs": [],
   "source": [
    "## You MUST run this code (every time you open the lab sheet).\n",
    "aux <- version\n",
    "if (((as.numeric(aux$major) >= 3) && (as.numeric(aux$minor) >= 6)) || (as.numeric(aux$major) >= 4)) {\n",
    "  RNGkind(kind = \"Mersenne-Twister\", normal.kind = \"Inversion\", sample.kind = \"Rounding\")\n",
    "} else {\n",
    "  RNGkind(kind = \"Mersenne-Twister\", normal.kind = \"Inversion\")\n",
    "}\n",
    "\n",
    "set.seed(12345)\n",
    "cat(\"1st check: 5 = \",sample(1:6,1),\"\\n\",sep=\"\")\n",
    "cat(\"2nd check: 9 = \",ceiling(runif(1,0,10)),\"\\n\",sep=\"\")\n",
    "cat(\"If the statements above are right, then it is ok.\\n\",sep=\"\")\n",
    "cat(\"\\n\",sep=\"\")\n",
    "cat(\"If you get a warning message as below, this is ok. \\n   'Warning message in RNGkind(kind = \",'\"',\"Mersenne-Twister\",'\"',\n",
    "    \", normal.kind = \",'\"',\"Inversion\",'\"',\", :\\n\",'   \"',\"non-uniform 'Rounding' sampler used\",'\"',\"\\n\",sep=\"\")\n",
    "\n",
    "options(repr.plot.width=6, repr.plot.height=6, repr.plot.res = 120)"
   ]
  },
  {
   "cell_type": "markdown",
   "metadata": {},
   "source": [
    "# Exercise 1.1: Discrete Random Variables\n",
    "\n"
   ]
  },
  {
   "cell_type": "markdown",
   "metadata": {},
   "source": [
    "So far we have learned how to summarise data by using either the summary statistics or visually via graphs as boxplot, histogram, scatterplot and barplot. Summarising and visualising data are **descriptive** methods and are part of what is called **descriptive statistics** as the data at hand is described by these methods.\n",
    "\n",
    "If we are interested in finding results that supersede the pure description of data, we have to turn to the theoretical concepts which work in the background of our data. \n",
    "To give you an example: \n",
    "\n",
    "Let's assume that we roll a 6-sided, fair die 20 times, with the following outcome: \n",
    "**6,2,6,2,1,5,3,1,5,2,4,1,1,2,4,5,4,6,2,1**.\n",
    "Now let's take a look at the summary statistics of this data."
   ]
  },
  {
   "cell_type": "code",
   "execution_count": null,
   "metadata": {
    "scrolled": false
   },
   "outputs": [],
   "source": [
    "die <- c(6,2,6,2,1,5,3,1,5,2,4,1,1,2,4,5,4,6,2,1)\n",
    "summary(die)\n",
    "\n",
    "# this code creates a barplot for the data\n",
    "counts <- table(die)\n",
    "barplot(counts, main=\"Die Distribution\",\n",
    "   xlab=\"results\") "
   ]
  },
  {
   "cell_type": "markdown",
   "metadata": {},
   "source": [
    "We have now described our data in a satisfying manner. However, it is usually of greater interest to understand the concept which works in the background of our data. \n",
    "As you have learned in lecture a random variable is a numerical quantity whose value depends on the outcome of an experiment. Observations can then be referred to as realisations of such random variables. Let's assume that X is a random variable which describes the outcome of rolling a die and our data hence consists of 20 different realisations of this random variable.\n",
    "Rather than to perform the experiment many times and only describe the data it is usually more interesting to gather knowledge about the corresponding random variable instead. \n",
    "For instance, we could describe the empirical frequency distribution of the data (as seen above via a barplot) or we could instead state the theoretical frequency distribution of X. \n",
    "\n",
    "* Write down both frequency distributions!\n",
    "* What is the mean of the data, and what is E(X)?\n",
    "* What is the variance of the data and what is Var(X)?\n",
    "\n",
    "\n",
    "\n",
    "Since the die is fair, we would intuitively expect every number to occur equally often and with a probability of 1/6. Our data suggest otherwise as 3 for instance only occurred once.  \n",
    "\n",
    "The reason why we are usually more interested in the theoretical (\"true\") distribution is because it describes the behaviour of the population, that is all potential rolls of a die and not only 20 rolls. Sample based results as seen in our example can deviate from the \"truth\" (especially if the sample size is small). It is obviously more interesting to gain knowledge about the population rather than to merely describe the outcome of the sample. \n",
    "\n",
    " "
   ]
  },
  {
   "cell_type": "code",
   "execution_count": null,
   "metadata": {},
   "outputs": [],
   "source": [
    "# Use this cell for calcualtions regarding your assignment questions.\n"
   ]
  },
  {
   "cell_type": "markdown",
   "metadata": {},
   "source": [
    "# Exercise 1.2: Simulating a Fair and an Unfair Die\n",
    "\n",
    "In R we can simulate a random experiment by sampling from a vector, that contains all potential outcomes. We simply use the `sample()` command. Its first argument is the sample space (the set of outcomes we want to sample from), followed by the sample size (how many realisations we want to simulate) and an indicator (`replace()`) of whether outcomes can occur only once or multiple times.   \n",
    "\n",
    "Let's try to simulate rolling a fair 6-sided die:"
   ]
  },
  {
   "cell_type": "code",
   "execution_count": null,
   "metadata": {},
   "outputs": [],
   "source": [
    "roll <- sample(1:6, size = 1, replace = FALSE)\n",
    "roll"
   ]
  },
  {
   "cell_type": "markdown",
   "metadata": {},
   "source": [
    "Re-run the above code a few times. \n",
    "\n",
    "* What do you notice? \n",
    "\n",
    "Simulating observations of a random variable yields different results for different samples. It would of course be nice to make results reproducible. We can use the `set.seed()` command in R to do so. We will learn more about this command in future labs. For now, set the random counter to \"1400\" and then re-run the code over and over. What do you notice now?"
   ]
  },
  {
   "cell_type": "code",
   "execution_count": null,
   "metadata": {},
   "outputs": [],
   "source": [
    "set.seed(1400)\n",
    "roll <- sample(1:6, size = 1, replace = FALSE)\n",
    "roll"
   ]
  },
  {
   "cell_type": "markdown",
   "metadata": {},
   "source": [
    "We will familiarise ourselves with the `sample()` command now by simulating n = 10, 25 and 50 rolls with this die. Use the cell block below to do so. Use `?sample` to obtain more information on the `sample()` command.\n",
    "\n",
    "What happens when you change *FALSE* to *TRUE* in the `replace` argument of the `sample()` function? \n",
    "\n",
    "* Does the code from above adequately simulate a single roll of a die?\n",
    "* Does it adequately simulate multiple rolls of a die?"
   ]
  },
  {
   "cell_type": "code",
   "execution_count": null,
   "metadata": {},
   "outputs": [],
   "source": [
    "# needs to be completed\n",
    "\n",
    "roll_10 <- sample(...)\n",
    "roll_10\n",
    "roll_25 <- sample(...)\n",
    "roll_25\n",
    "roll_50 <- sample(...)\n",
    "roll_50"
   ]
  },
  {
   "cell_type": "markdown",
   "metadata": {},
   "source": [
    "The expectation of a random variable X (that is E(X)), can be interpreted as the long term average of realisations of X for an infinite series of simulations. It is of course impossible to sample an infinite amount of times but let's try sampling 1000 times and compare the mean of such sample to the true mean. Remember that you can make your results reproducible by setting the random counter. To do so, simply uncomment the top line of the following block of code.\n"
   ]
  },
  {
   "cell_type": "code",
   "execution_count": null,
   "metadata": {},
   "outputs": [],
   "source": [
    "# set.seed(1400)\n",
    "roll_X_1000 <- sample(1:6,...)      # needs to be completed\n",
    "mean(roll_X_1000)"
   ]
  },
  {
   "cell_type": "markdown",
   "metadata": {},
   "source": [
    "The `sample()` command assumes that all elements of the sample space occur with the same probability by default. If we would like to change that, we can use the `prop` argument within the `sample()` command. Simply assign a vector which contains the desired probabilities in the corresponding order of the elements of the sample space to the `prop` argument.\n",
    "\n",
    "Now, simulate an unfair die, which will roll a 6 with a probability of 30\\%, a 5 with a probability of 20% and all other numbers (1-4) with an equal probability. Sample 100 times from this die and view the results. What is E(Y) if the random variable Y was representing the outcome of that die?"
   ]
  },
  {
   "cell_type": "code",
   "execution_count": null,
   "metadata": {},
   "outputs": [],
   "source": [
    "set.seed(1400)\n",
    "\n",
    "roll_100 <- sample(1:6, size = 100, replace = TRUE, ... )   # needs to be completed\n",
    "mean(roll_100)"
   ]
  },
  {
   "cell_type": "markdown",
   "metadata": {},
   "source": [
    "Now turn to your assignment questions regarding this part of the lab."
   ]
  },
  {
   "cell_type": "markdown",
   "metadata": {},
   "source": [
    "# Exercise 1.3: Gambling Game\n",
    "\n",
    "Let us now assume that we were to play a gambling game with an entry fee of \\\\$3. The game consists of two rounds. In the first round we toss a fair coin. Let **X** be the random variable measuring the outcome of the coin toss. If the coin shows \"Heads\" we proceed to roll a fair 4-sided die, if the coin shows \"Tails\", we instead get to roll a fair 8-sided die. The pay-outs are as follows:\n",
    "\n",
    "1) If an 8 gets rolled, the player wins \\\\$20 (this means the profit is  \\\\$17)\n",
    "\n",
    "2) If a 6 gets rolled, the player wins \\\\$12\n",
    "\n",
    "3) If an even number other than 8 or 6 gets rolled, the player wins \\\\$3 (the player gets the entry fee back)\n",
    "\n",
    "4) If an odd number gets rolled, the player loses the game (therefore loses the entry fee).\n",
    "\n",
    "Let **Y** measure the monetary profit of the game (meaning Y is the return amount minus the $3 entry) if played exactly once.\n",
    "\n",
    "* What is the sample space of Y?\n",
    "* What is the frequency distribution of X? What is the frequency distribution of Y? Write it down.\n",
    "* What is the probability of winning \\\\$9 (i.e. P(Y=9))?\n",
    "* What is the probability to lose money?\n",
    "* Is this a fair game?\n",
    "* Would you recommend a friend to play this game?\n",
    "\n",
    "Use the addition rule and the multiplication rule explained in the lecture to answer these questions. You may also consider sketching a tree diagram to help you visualise the two rounds of the experiment."
   ]
  },
  {
   "cell_type": "markdown",
   "metadata": {},
   "source": [
    "# Exercise 2.1: Continuous Random Variables\n",
    "\n",
    "In the lecture you have also learned about continuous random variables. We will now learn how to use R to visualise the density function and calculate probabilities as well as quantiles for specific continuous distributions.\n",
    "For instance, in lecture you already came across the following density function, which looks uniform."
   ]
  },
  {
   "cell_type": "code",
   "execution_count": null,
   "metadata": {},
   "outputs": [],
   "source": [
    "curve (dunif (x, min = 0, max = 5, log = FALSE), xlim = c(-0.5, 5.5), ylab=\"f(x)\")"
   ]
  },
  {
   "cell_type": "markdown",
   "metadata": {},
   "source": [
    "Now, let X be a random variable that belongs to this continuous density function. We can use the `punif()` function in R to calculate probabilities. The `punif()` function has 3 arguments that we need to specify. The first one is the quantile; the second the lower bound and the third the upper bound of the sample space. We may choose to use a fourth argument to specify whether we would like R to calculate the area (and therefore the probability) to the left of the first argument or to the right. By default the area to the left is calculated which matches the definition of a quantile.\n"
   ]
  },
  {
   "cell_type": "markdown",
   "metadata": {},
   "source": [
    "\n",
    "\n"
   ]
  },
  {
   "cell_type": "code",
   "execution_count": null,
   "metadata": {},
   "outputs": [],
   "source": [
    "punif(1.5, min = 0, max = 5)\n",
    "1- punif(1.5, min=0, max=5, lower.tail=FALSE)\n",
    "\n",
    "x <- punif(1.5, min = 0, max = 5, lower.tail = TRUE)\n",
    "cat(\"P(X<1.5)=\",x)\n"
   ]
  },
  {
   "cell_type": "markdown",
   "metadata": {},
   "source": [
    "Think about the use of the different arguments in `punif()`, try them out if you like or read up on them via `?punif`.\n",
    "We can also use a similar command called `qunif()`, to calculate the quantiles of this distribution. If you want to refresh your memory on this topic you can go back to week 4 and read the \"Quantile\"-section of the lab sheet. The arguments of the `qunif()` function are very similar to the ones from the `punif()` function. Mainly the quantile is now being exchanged with a probability. For instance, we can find the 40\\% quantile of the above distribution via:"
   ]
  },
  {
   "cell_type": "code",
   "execution_count": null,
   "metadata": {},
   "outputs": [],
   "source": [
    "qunif(0.4, min = 0, max = 5)"
   ]
  },
  {
   "cell_type": "markdown",
   "metadata": {},
   "source": [
    "It is possible to sepcify a fourth argument similar to what we have seen above, but we would recommend against it at this stage."
   ]
  },
  {
   "cell_type": "markdown",
   "metadata": {},
   "source": [
    "Use the methods learned above to calculate probabilities and find quantiles, such as:\n",
    "\n",
    "* P(2<X<3)\n",
    "* P(X>2)\n",
    "* P(X<0.5)\n",
    "* what is the upper quantile of X?\n",
    "\n",
    "Now, use the cell block below to help you answer the questions in your assignment."
   ]
  },
  {
   "cell_type": "code",
   "execution_count": null,
   "metadata": {},
   "outputs": [],
   "source": [
    "# use this cell for calcualtions."
   ]
  },
  {
   "cell_type": "markdown",
   "metadata": {},
   "source": [
    "# Exercise 2.2:  Sampling from a *Uniform Distribution*\n",
    "\n",
    "Just like we did with discrete distributions before, we can also sample from continuous distributions, say the one we just viewed in the previous exercise. We don't even need the `sample()` command for this but instead use the R internal `runif()` command, which generates realisations of a random variable with continuous uniform density. To illustrate this, run the below lines of code. Note that similarly to last week's lab re-running the code will result in different observations since a new realisation is generated each time you run it."
   ]
  },
  {
   "cell_type": "code",
   "execution_count": null,
   "metadata": {},
   "outputs": [],
   "source": [
    "runif(1, min = 0, max = 5)"
   ]
  },
  {
   "cell_type": "markdown",
   "metadata": {},
   "source": [
    "To make results reproducible, we can once again, use the `set.seed()` command. Re-run the block of code below to verify this. "
   ]
  },
  {
   "cell_type": "code",
   "execution_count": null,
   "metadata": {},
   "outputs": [],
   "source": [
    "# use this block to answer your corresponding assignment questions.\n",
    "\n",
    "set.seed(1400)\n",
    "runif(...)\n"
   ]
  },
  {
   "cell_type": "markdown",
   "metadata": {},
   "source": [
    "Let us now simulate how quickly the corresponding histogram will match the theoretical density once we increase the sample size. Run the block of code below for plot re-sizing purposes first.\n"
   ]
  },
  {
   "cell_type": "code",
   "execution_count": null,
   "metadata": {},
   "outputs": [],
   "source": [
    "options(repr.plot.width=5, repr.plot.height=5, repr.plot.res = 120)  # resizing plot"
   ]
  },
  {
   "cell_type": "markdown",
   "metadata": {},
   "source": [
    "Now study the block of code below. What would you expect it to do? Now run it and check whether the output matches your expectation."
   ]
  },
  {
   "cell_type": "code",
   "execution_count": null,
   "metadata": {},
   "outputs": [],
   "source": [
    "uniform_10 = runif(10,min=0,max=5)\n",
    "uniform_100 = runif(100,0,5)\n",
    "uniform_1000 = runif(1000,0,5)\n",
    "uniform_10000 = runif(10000,0,5)\n",
    "\n",
    "par(mfrow=c(2,2))\n",
    "hist(uniform_10,breaks=(0:50)/10,freq=FALSE,col=1)\n",
    "hist(uniform_100,breaks=(0:50)/10,freq=FALSE,col=2)\n",
    "hist(uniform_1000,breaks=(0:50)/10,freq=FALSE,col=3)\n",
    "hist(uniform_10000,breaks=(0:50)/10,freq=FALSE,col=4)"
   ]
  },
  {
   "cell_type": "markdown",
   "metadata": {},
   "source": [
    "# Sampling from an *Exponential Distribution*\n",
    "\n",
    "Recall from lecture that one of the most commonly used continuous density functions looks like this:"
   ]
  },
  {
   "cell_type": "code",
   "execution_count": null,
   "metadata": {},
   "outputs": [],
   "source": [
    "options(repr.plot.width=4, repr.plot.height=4, repr.plot.res = 120)  # resizing plot\n",
    "curve (dexp (x, rate = 1), xlim = c(0,4), ylab=\"f(x)\")"
   ]
  },
  {
   "cell_type": "markdown",
   "metadata": {},
   "source": [
    "The analytical form of this density function is: $f(x) = \\lambda e^{-\\lambda  x}, x>0$, where $\\lambda$ is referred to as the rate ($\\lambda = 1 $ in the graph above). Note how different values for the 'rate' argument change the appearance of the function. In essence, starting at (0,$\\lambda)$ the line converges to zero. The higher the rate the faster it converges."
   ]
  },
  {
   "cell_type": "code",
   "execution_count": null,
   "metadata": {},
   "outputs": [],
   "source": [
    "curve (dexp (x, rate = 0.5), xlim = c(0,2.5),ylim = c(0,5), col =\"red \",ylab=\"f(x)\")\n",
    "curve (dexp (x, rate = 1), xlim = c(0,4),ylab=\"f(x)\", add=T)\n",
    "curve (dexp (x, rate = 3), xlim = c(0,4), col =\"blue \",ylab=\"f(x)\",add=T)\n",
    "curve (dexp (x, rate = 5), xlim = c(0,4),, col =\"green \",ylab=\"f(x)\",add=T)"
   ]
  },
  {
   "cell_type": "markdown",
   "metadata": {},
   "source": [
    "# Exercise 3.1: \n",
    "Let X be a random variable following an exponential density with $\\lambda = 0.5$. Transfer the methods learned based on the uniform density to now calculate probabilities and find quantiles for the exponential density. Use `pexp()` and `qexp()` to find quantities like:\n",
    "\n",
    "* P(1<X<3)\n",
    "* P(X>2)\n",
    "* P(X<0.5)\n",
    "* what is the upper quantile of X?\n",
    "\n",
    "Use the cell block below to perform further necessary calculations in R for your assignment questions. Use the R help page via `?pexp` and `?qexp` to find out which arguments these functions use."
   ]
  },
  {
   "cell_type": "code",
   "execution_count": null,
   "metadata": {},
   "outputs": [],
   "source": [
    "# space for your calculations:"
   ]
  },
  {
   "cell_type": "markdown",
   "metadata": {},
   "source": [
    "# Exercise 3.2: \n",
    "We can also use `?rexp` to sample from this distribution."
   ]
  },
  {
   "cell_type": "code",
   "execution_count": null,
   "metadata": {},
   "outputs": [],
   "source": [
    "rexp(1, rate = 0.5)"
   ]
  },
  {
   "cell_type": "markdown",
   "metadata": {},
   "source": [
    "Once again, notice how this generated realisation changes when you re-run the code. To avoid this, we set the random counter, making results reproducible. "
   ]
  },
  {
   "cell_type": "code",
   "execution_count": null,
   "metadata": {},
   "outputs": [],
   "source": [
    "# use this block of code to simulate 1000 reproducible draws from an exponential density.\n",
    "set.seed(1400)\n",
    "rexp(...)"
   ]
  },
  {
   "cell_type": "markdown",
   "metadata": {},
   "source": [
    "Now, try to visualise how the histogram converges to the true density for large sample sizes."
   ]
  },
  {
   "cell_type": "code",
   "execution_count": null,
   "metadata": {},
   "outputs": [],
   "source": [
    "# has to be completed\n",
    "\n",
    "exp_10 = rexp(10, rate=1)\n",
    "exp_100 = rexp(...)\n",
    "exp_1000 = rexp(...)\n",
    "\n",
    "par(mfrow=c(2,2))\n",
    "\n",
    "hist(exp_10,freq=FALSE,col=2)\n",
    "hist(exp_100,freq=FALSE,col=3)\n",
    "hist(exp_1000,freq=FALSE,col=4)\n",
    "curve (dexp (x, rate = 1), xlim = c(0,10))"
   ]
  },
  {
   "cell_type": "markdown",
   "metadata": {},
   "source": [
    "# Exercise 4: Sample Mean"
   ]
  },
  {
   "cell_type": "markdown",
   "metadata": {},
   "source": [
    "Before you start with this exercise, study the lecture material regarding the sample mean.\n",
    "Consider $n$ **independent** random variables $X_1, X_2,..., X_n$, which all follow a continuous uniform distribution like we have already seen it in *Exercise 2* of this lab sheet.\n",
    "\n",
    "The sample mean $\\bar{X}$ is indeed a random variable itself, as it is the scaled (by $1/n$) sum of $n$ random variables $X_1, X_2,..., X_n$, so it's value depends on the outcome of $n$ random experiments.\n",
    "\n",
    "If a random variable has uniform density between $a$ and $b$, then its expectation is $(a+b)/2$ and its variance is $(a-b)^2/12$. If a random variable has an exponential density with rate $\\lambda$, then its expectation is $1/\\lambda$ and its variance is $1/\\lambda^2$. \n",
    "\n",
    "\n",
    "If we now consider $n$ such random variables in both of the above cases:\n",
    "\n",
    "* What is the expectation of the sample mean?\n",
    "* What is the variance of the sample mean?\n",
    "* How do E(X) and Var(X) change based on the sample size n?"
   ]
  },
  {
   "cell_type": "markdown",
   "metadata": {},
   "source": [
    "Recall from lecture that the following code can be used to visually compare the original empirical distribution (with $n=1000$ draws) of a uniform distribution between 0 and 5 and the sampling distribution (so the distribution of the sample mean). In order to derive an empirical distribution for the sample mean we need to draw multiple samples (here $m=100$ samples, each of size $n=1000$), for each of which we then calculate the mean.\n",
    "\n",
    "Don't worry about the details of the code too much, but take a look at the two corresponding histograms."
   ]
  },
  {
   "cell_type": "code",
   "execution_count": null,
   "metadata": {},
   "outputs": [],
   "source": [
    "# sampling from a uniform distribution between 0 and 5, 1000 times.\n",
    "n = 1000\n",
    "original = runif(n,min=0,max=5)\n",
    "\n",
    "# sampling from a uniform distribution between 0 and 5, 100 times. Repeating this procedure 1000 times.\n",
    "n = 1000\n",
    "m = 100\n",
    "sample_means = c()\n",
    "for (i in 1:m) {\n",
    "sample_means[i] = sum(runif(n,0,5))/n\n",
    "}\n",
    "\n",
    "# plotting both empirical distributions.\n",
    "par(mfrow=c(1,2))\n",
    "hist(original,breaks=(0:50)/10,freq=TRUE,col=2, main=\"original sample\", xlim = c(0,5))\n",
    "hist(sample_means,breaks=(0:250)/50,freq=TRUE,col=2, main=\"sample mean\", xlim = c(2.3, 2.7))"
   ]
  },
  {
   "cell_type": "markdown",
   "metadata": {},
   "source": [
    "What do you notice about the two distributions? Does the shape of the histogram of the sampling distribution remind you of a familiar continuous distribution?\n",
    "\n",
    "Using the knowledge gained throughout this lab, repeat the procedure for an exponential distribution with rate $\\lambda=1$. That is: Sample 1000 times from this distribution and plot the corresponding histogram. Then calculate the mean of 100 different samples which each have a sample size of 1000 and plot the histogram of those means."
   ]
  },
  {
   "cell_type": "code",
   "execution_count": null,
   "metadata": {},
   "outputs": [],
   "source": [
    "# complete this code to plot the two histograms.\n",
    "\n",
    "n = 1000\n",
    "original = ...\n",
    "\n",
    "\n",
    "sample_means = c()\n",
    "for (i in 1:100) {\n",
    "sample_means[i] = ...\n",
    "}\n",
    "\n",
    "par(mfrow=c(1,2))\n",
    "hist(original,freq=TRUE,col=2, main=\"original sample\")\n",
    "hist(sample_means,freq=TRUE,col=2, main=\"sample mean\")\n"
   ]
  },
  {
   "cell_type": "markdown",
   "metadata": {},
   "source": [
    "What do you notice this time? What does the shape of the sampling distribution remind you of this time? Can you think of  a rule that would generalise your findings regarding the sampling distribution no matter the original distribution?"
   ]
  },
  {
   "cell_type": "markdown",
   "metadata": {},
   "source": [
    "Please finalise this week's lab sheet now. Remember to round all results to 3 decimal places. Following zero's can of course as always be omitted. For example, state 2.5 as 2.5 and not as 2.500. \n",
    "\n",
    "Good luck!"
   ]
  }
 ],
 "metadata": {
  "kernelspec": {
   "display_name": "R",
   "language": "R",
   "name": "ir"
  },
  "language_info": {
   "codemirror_mode": "r",
   "file_extension": ".r",
   "mimetype": "text/x-r-source",
   "name": "R",
   "pygments_lexer": "r",
   "version": "4.1.3"
  }
 },
 "nbformat": 4,
 "nbformat_minor": 4
}
