{
 "cells": [
  {
   "cell_type": "markdown",
   "metadata": {},
   "source": [
    "\n",
    "# Lab week 4 - Outcomes\n",
    "\n",
    "In this lab you should read through and run the code in this lab sheet and complete the lab assessment. The lab assessment can be found in LMS. Remember to round all results to 3 decimal places. That is, round your results if they have more than 3 decimal places. You DO NOT need to add zeros to your result. \n",
    "Please run the following lines of code first, as they will ensure better graph quality throughout this lab.\n"
   ]
  },
  {
   "cell_type": "code",
   "execution_count": null,
   "metadata": {},
   "outputs": [],
   "source": [
    "library(repr)\n",
    "\n",
    "# Change plot size to 4 x 3\n",
    "options(repr.plot.width=4, repr.plot.height=4, repr.plot.res = 120)"
   ]
  },
  {
   "cell_type": "markdown",
   "metadata": {},
   "source": [
    "In this lab we will learn how to:\n",
    "\n",
    " * visualise numerical variables using histograms and boxplots\n",
    " * derive quantiles of numerical variables\n",
    " * use R to calculate measures of dispersion like variance and standard deviation\n",
    " * visualise two numerical variables in a scatterplot"
   ]
  },
  {
   "cell_type": "markdown",
   "metadata": {},
   "source": [
    "# Exercise 1: Visualisation of numerical variables\n",
    "\n",
    "At the end of last week's lab sheet you created a barplot, which is a graph that can be used to visualise categorical variables. Today, we will take a look at the **histogram**, which is usually used to visualise numerical variables. To do so, please read in the Perth weather datafile for this week's lab. **Remember to make sure that the csv file is located in the same directory as the .ipynb file you opened**. "
   ]
  },
  {
   "cell_type": "code",
   "execution_count": null,
   "metadata": {},
   "outputs": [],
   "source": [
    "weather <- read.csv(\"week4-perth_weather.csv\")"
   ]
  },
  {
   "cell_type": "markdown",
   "metadata": {},
   "source": [
    "Now, we can use the `hist()` command to create a histogram of the temperature. Below you find a very basic version of it. Use the help function in R via `?hist` to find out which arguments can be used to alter the appearance of the graph. Try to change the title, the colour of the bars as well as the limits of the x-axis."
   ]
  },
  {
   "cell_type": "code",
   "execution_count": null,
   "metadata": {},
   "outputs": [],
   "source": [
    "hist(weather$average.temp)"
   ]
  },
  {
   "cell_type": "markdown",
   "metadata": {},
   "source": [
    "### Boxplot\n",
    "\n",
    "Another graphic tool that can be used for numerical data is the boxplot, which you learned about in lecture. Today, we will learn how to create a boxplot in R. Run the code below and compare the graph to the **quartiles** from your summary statistic to see how the graph matches your results. If you are unfamiliar with the concept of quartiles, please refer to the following section."
   ]
  },
  {
   "cell_type": "code",
   "execution_count": null,
   "metadata": {},
   "outputs": [],
   "source": [
    "boxplot(weather$average.temp)"
   ]
  },
  {
   "cell_type": "markdown",
   "metadata": {},
   "source": [
    "### Quantiles\n",
    "\n",
    "Quantiles are important constructs in statistics, which we will use later on during this semester when we dive into statistical testing. But first, let's familiarize with the meaning of a **p-quantile**. If you already feel confident enough, try to write down a formal definition of a p-quantile or try to explain it to someone and answer the questions in your assessment. Otherwise, keep on reading. \n",
    "\n",
    "The idea of a p-quantile is to split the **ascending list of observations** such that p * 100% of the observations lie below the quantile and (1-p)* 100% of the observations lie above the quantile. We then call the value that splits the dataset in such a way a \"p-quantile\". For example 25% of the observations from the 'average.temp' variable are smaller or equal to 19.68°C and 75% of the observations from that dataset are bigger or equal to that temperature.\n",
    "\n",
    "The `summary()` command yields the 0.25 (lower quartile), the 0.5 (median) and the 0.75 (upper quartile) quantiles. Together, those quantiles split the entire list of observations into 4 quarters, which is why they are also called **quartiles**. "
   ]
  },
  {
   "cell_type": "code",
   "execution_count": null,
   "metadata": {},
   "outputs": [],
   "source": [
    "summary(weather$average.temp)"
   ]
  },
  {
   "cell_type": "markdown",
   "metadata": {},
   "source": [
    "However, it is of course possible to also obtain other quantiles. R provides the command `quantiles()` for this. Below is an example of obaining the 10%, 20% and 99% quantile at once."
   ]
  },
  {
   "cell_type": "code",
   "execution_count": null,
   "metadata": {},
   "outputs": [],
   "source": [
    "quantile(weather$average.temp, probs = c(0.1, 0.2, 0.99))"
   ]
  },
  {
   "cell_type": "markdown",
   "metadata": {},
   "source": [
    "Think about the following questions. Then answer your assignment questions.\n",
    "\n",
    "*What is the 99% quantile of 'average.temp'?*\n",
    "\n",
    "*What is the upper quartile of 'average.temp'?*\n",
    "\n",
    "*In which range do the central 50% of observed temperatures lie?*\n",
    "\n",
    "*The 10% hottest average temperatures observed are all above which temperature?*"
   ]
  },
  {
   "cell_type": "markdown",
   "metadata": {},
   "source": [
    "\n",
    "# Exercise 2: Larvae Data \n",
    "\n",
    " \n",
    "For you to practice what we have learned today up to this point, please load the 'larvae' dataset. **Make sure that the .csv file is located in the same directory as the .ipynb file you opened**.\n",
    "The larvae data contains 32 observations of 4 variables: ID, Insecticide, NumberLarvae and Group.\n",
    "The datafile contains data of an experiment testing the effect of different intensities of\n",
    "a certain insecticide. The variable 'NumberLarvae' records the number of dead larvae following treatment with different\n",
    "intensities of insecticide ('Insecticide') measured in milliliters per litre. The 'Group' variable separates two types of larvae."
   ]
  },
  {
   "cell_type": "code",
   "execution_count": null,
   "metadata": {},
   "outputs": [],
   "source": [
    "larvae <- read.csv(\"week4-larvae.csv\")\n",
    "head(larvae)"
   ]
  },
  {
   "cell_type": "markdown",
   "metadata": {},
   "source": [
    "Use the tools which you have learned so far, i.e. summary statistics, quantiles, barplot, histograms and boxplot to explore the datafile. Then think about the following questions and also answer your assignment questions.\n",
    "\n",
    "*What do you think the ID variable represents?*\n",
    "\n",
    "*Can you identify the data type of each of the variables?*\n"
   ]
  },
  {
   "cell_type": "markdown",
   "metadata": {},
   "source": [
    "Let us now go back to the boxplot one last time as R also provides a way to compare boxplots of multiple groups.\n",
    "To do this, we can set the x variable to be equal to `Group`, as shown below, but first load the necessary package called 'ggplot2' by running the next line of code please. "
   ]
  },
  {
   "cell_type": "code",
   "execution_count": null,
   "metadata": {},
   "outputs": [],
   "source": [
    "library(ggplot2)"
   ]
  },
  {
   "cell_type": "code",
   "execution_count": null,
   "metadata": {},
   "outputs": [],
   "source": [
    "ggplot(data = larvae, mapping = aes(x = Group, y = NumberLarvae)) + geom_boxplot()"
   ]
  },
  {
   "cell_type": "markdown",
   "metadata": {},
   "source": [
    "Now answer your assignment questions regarding exercise 2. "
   ]
  },
  {
   "cell_type": "markdown",
   "metadata": {},
   "source": [
    "# Exercise 3: Measures of dispersion\n",
    "\n",
    "Before we finalise this section, let us take a quick look at some **measures of dispersion**. Measures of dispersion represent the variation in a dataset, i.e. it gives us an idea about how far scattered the observations are. The most often used measure of dispersion is the \"standard deviation\" $s$ which is not accessible by the `summary()` command. Instead, one can access it via the `sd()` command."
   ]
  },
  {
   "cell_type": "code",
   "execution_count": null,
   "metadata": {},
   "outputs": [],
   "source": [
    "sd(larvae$Insecticide)"
   ]
  },
  {
   "cell_type": "markdown",
   "metadata": {},
   "source": [
    "The standard deviation $s$ is directly related to the variance $s^2$ (also a measure of dispersion) as it is the square root of the variance, i.e. $s = \\sqrt{s^2}$. The variance measures the average squared distance to the mean, $s^2= \\sum_{i=1}^{n} (x_i - \\bar{x})^2$. Therefore, if all observations in a dataset are equal (i.e. there is no variation in the data at all), the variance equals zero. In cases where the data spreads around its mean the variance will be greater than zero. See three illustrating examples featuring datasets with equal mean but different variance below."
   ]
  },
  {
   "cell_type": "code",
   "execution_count": null,
   "metadata": {},
   "outputs": [],
   "source": [
    "zero.var <- c(10,10,10,10,10,10,10,10,10,10)\n",
    "cat(\"The mean of the first dataset is\", mean(zero.var), \", its variance is\", var(zero.var),\"\\n\")\n",
    "\n",
    "low.var <- c(9,9,9,9,10,10,10,10,11,11,11,11)\n",
    "cat(\"The mean of the second dataset is also\", mean(low.var), \", its variance is\", var(low.var),\"\\n\")\n",
    "\n",
    "high.var <- c(1,1,1,1,10,10,10,10,19,19,19,19)\n",
    "cat(\"The mean of the third dataset is\", mean(high.var), \"again, its variance is\", var(high.var),\"\\n\")"
   ]
  },
  {
   "cell_type": "markdown",
   "metadata": {},
   "source": [
    "Another measure of dispersion is the \"Inter Quartile Range\" (IQR), which is the positive distance between the upper and the lower quartile. It can be calculated as the difference of those two, or one can directly use the `IQR()` command instead.  "
   ]
  },
  {
   "cell_type": "code",
   "execution_count": null,
   "metadata": {},
   "outputs": [],
   "source": [
    "quantile(larvae$Insecticide,prob=0.75) - quantile(larvae$Insecticide,prob=0.25)\n",
    "IQR(larvae$Insecticide)"
   ]
  },
  {
   "cell_type": "markdown",
   "metadata": {},
   "source": [
    "Let us practice this with a new datafile. Please load the 'meadowfoam' data. **Make sure that the .csv file is located in the same directory as the .ipynb file you opened**.\n",
    "\n",
    "Some context on the data: A meadowfoam is a small plant found growing on moist meadows in the US Pacific Northwest. Researchers reported the results from one study in a series designed to find out how to elevate meadowfoam production to a profitable crop. In a controlled growth chamber they focused on the effects of two light related factors; light intensity and the timing of the onset of the light treatment. The outcome of interest was the average number of flowers per meadowfoam plant. \n",
    "\n",
    "The results of this experiment can be found in the meadowfoam.csv file."
   ]
  },
  {
   "cell_type": "code",
   "execution_count": null,
   "metadata": {},
   "outputs": [],
   "source": [
    "meadow <- read.csv(\"week4-meadowfoam.csv\")\n",
    "head(meadow)"
   ]
  },
  {
   "cell_type": "markdown",
   "metadata": {},
   "source": [
    "For the last time today, make yourself familiar with the datafile using the summary statistic, histograms for numerical and barplots for categorical variables. Then think about the following questions:\n",
    "\n",
    "*What is the standard deviation of 'Flowers'? What is the variance?*\n",
    "\n",
    "*What is the inter quartile range of 'Intensity'?*\n"
   ]
  },
  {
   "cell_type": "markdown",
   "metadata": {},
   "source": [
    "The 'Intensity' variable is a numerical variable. However, since only six different intensities are observed, we may want to interpret it as a categorical variable. This can be done by changing it to a factor variable in R using the 'as.factor' function. This conversion is done for you below."
   ]
  },
  {
   "cell_type": "code",
   "execution_count": null,
   "metadata": {},
   "outputs": [],
   "source": [
    "summary(meadow$Intensity)\n",
    "meadow$Intensity <- as.factor(meadow$Intensity)\n",
    "summary(meadow$Intensity)"
   ]
  },
  {
   "cell_type": "markdown",
   "metadata": {},
   "source": [
    "Now use your abilities to create a boxplot of 'Flowers' for each of the six intensity groups in one graph.\n",
    "\n",
    "*Which intensity value appears to result in the highest average number of flowers per plant?*"
   ]
  },
  {
   "cell_type": "code",
   "execution_count": null,
   "metadata": {},
   "outputs": [],
   "source": [
    "# this cell is meant for you to create the boxplots."
   ]
  },
  {
   "cell_type": "markdown",
   "metadata": {},
   "source": [
    "### Scatterplot\n",
    "\n",
    "\n",
    "We will now take a look at yet another visualisation, which maps two numeric variables. It is called a \"scatterplot\". We will use the 'Intensity' and the 'Flowers' variables. However, since we have led R to interpret the 'Intensity' variable as a categorical variable, we will firstly have to reverse it back to a numerical variable. "
   ]
  },
  {
   "cell_type": "code",
   "execution_count": null,
   "metadata": {},
   "outputs": [],
   "source": [
    "meadow$Intensity <- as.numeric(meadow$Intensity)\n",
    "summary(meadow$Intensity)"
   ]
  },
  {
   "cell_type": "markdown",
   "metadata": {},
   "source": [
    "Now we can create a scatterplot as follows:"
   ]
  },
  {
   "cell_type": "code",
   "execution_count": null,
   "metadata": {},
   "outputs": [],
   "source": [
    "ggplot(data= meadow, mapping = aes(x = Intensity, y = Flowers )) + geom_point()"
   ]
  },
  {
   "cell_type": "markdown",
   "metadata": {},
   "source": [
    "*What kind of relationship between the variables 'Intensity' and 'Flowers' can you observe from the graph?*\n",
    "\n",
    "*Why are those two the only reasonable variables from the datafile to use in a scatterplot?*\n",
    "\n",
    "We can further use coloured points to distinguish between the two 'Time' groups by setting `col = Time`."
   ]
  },
  {
   "cell_type": "code",
   "execution_count": null,
   "metadata": {},
   "outputs": [],
   "source": [
    "ggplot(data= meadow, mapping = aes(x = Intensity, y = Flowers , col = Time)) + geom_point()"
   ]
  },
  {
   "cell_type": "markdown",
   "metadata": {},
   "source": [
    "In R we can also create so called \"multiplots\". Use the `par()` command like shown below to do so. Use `?par` to read up on this command as well if you wish. Please run the code in the next line first to optimise visualisation."
   ]
  },
  {
   "cell_type": "code",
   "execution_count": null,
   "metadata": {},
   "outputs": [],
   "source": [
    "#resetting plot size\n",
    "options(repr.plot.width=5, repr.plot.height=5,repr.plot.res = 120)"
   ]
  },
  {
   "cell_type": "code",
   "execution_count": null,
   "metadata": {},
   "outputs": [],
   "source": [
    "par(mfrow=c(2,2))\n",
    "hist(meadow$Flowers, main=\"Histogram of Flowers\")\n",
    "boxplot(meadow$Flowers, main=\"Boxplot of Flowers\")\n",
    "plot(meadow$Intensity,meadow$Flowers, main=\"Scatterplot Intensity and Flowers\")"
   ]
  },
  {
   "cell_type": "markdown",
   "metadata": {},
   "source": [
    "Your last task for today's lab is to create a multiplot, including the three graphs from above as well as a bar plot for the 'Time' variable. Refer to last week's lab sheet on how to create a bar graph."
   ]
  },
  {
   "cell_type": "code",
   "execution_count": null,
   "metadata": {},
   "outputs": [],
   "source": [
    "# Complete these lines of code to obtain the desired multiplot\n",
    "\n",
    "counts <- table(...1...)\n",
    "\n",
    "par(mfrow=c(2,2))\n",
    "hist(meadow$Flowers, main=\"Histogram of Flowers\")\n",
    "boxplot(meadow$Flowers, main=\"Boxplot of Flowers\")\n",
    "plot(meadow$Intensity,meadow$Flowers, main=\"Scatterplot Intensity and Flowers\")\n",
    "...2..."
   ]
  },
  {
   "cell_type": "markdown",
   "metadata": {},
   "source": [
    "Finalise this week's lab sheet by answering the remaining questions in your assignment now. Remember to round all results to 3 decimal places. Following zero's can of course be omitted. For example, state 2.5 as 2.5 and not as 2.500. \n",
    "\n",
    "Good luck!"
   ]
  }
 ],
 "metadata": {
  "kernelspec": {
   "display_name": "R",
   "language": "R",
   "name": "ir"
  },
  "language_info": {
   "codemirror_mode": "r",
   "file_extension": ".r",
   "mimetype": "text/x-r-source",
   "name": "R",
   "pygments_lexer": "r",
   "version": "4.1.3"
  }
 },
 "nbformat": 4,
 "nbformat_minor": 4
}
