{
 "cells": [
  {
   "cell_type": "markdown",
   "metadata": {},
   "source": [
    "# Lab week 10 - Outcomes\n",
    "\n",
    "\n",
    "In this lab you should read through and run the code in the lab sheet and complete the lab assessment. By the end of this lab you should be able to use R to:\n",
    "\n",
    "* Perform bootstrapping\n",
    "* Construct confidence intervals for different population parameters\n",
    "\n",
    "\n",
    "Please run the following line of code for the purpose of better graph quality.\n"
   ]
  },
  {
   "cell_type": "code",
   "execution_count": null,
   "metadata": {},
   "outputs": [],
   "source": [
    "options(repr.plot.width=4, repr.plot.height=4, repr.plot.res = 120)"
   ]
  },
  {
   "cell_type": "markdown",
   "metadata": {},
   "source": [
    "**Also run the next block of code please. It ensures that random sampling is reproducible. You need to re-run this block every time you restart the lab sheet!!!**"
   ]
  },
  {
   "cell_type": "code",
   "execution_count": null,
   "metadata": {},
   "outputs": [],
   "source": [
    "## You MUST run this code (every time you open the lab sheet).\n",
    "aux <- version\n",
    "if (((as.numeric(aux$major) >= 3) && (as.numeric(aux$minor) >= 6)) || (as.numeric(aux$major) >= 4)) {\n",
    "  RNGkind(kind = \"Mersenne-Twister\", normal.kind = \"Inversion\", sample.kind = \"Rounding\")\n",
    "} else {\n",
    "  RNGkind(kind = \"Mersenne-Twister\", normal.kind = \"Inversion\")\n",
    "}\n",
    "\n",
    "set.seed(12345)\n",
    "cat(\"1st check: 5 = \",sample(1:6,1),\"\\n\",sep=\"\")\n",
    "cat(\"2nd check: 9 = \",ceiling(runif(1,0,10)),\"\\n\",sep=\"\")\n",
    "cat(\"If the statements above are right, then it is ok.\\n\",sep=\"\")\n",
    "cat(\"\\n\",sep=\"\")\n",
    "cat(\"If you get a warning message as below, this is ok. \\n   'Warning message in RNGkind(kind = \",'\"',\"Mersenne-Twister\",'\"',\n",
    "    \", normal.kind = \",'\"',\"Inversion\",'\"',\", :\\n\",'   \"',\"non-uniform 'Rounding' sampler used\",'\"',\"\\n\",sep=\"\")"
   ]
  },
  {
   "cell_type": "markdown",
   "metadata": {},
   "source": [
    "# Bootstrap \n",
    "\n",
    "We finished off last week's lab sheet by calculating point estimates for true population parameters. When we calculate such estimates we use our data and calculate the estimate exactly once. The estimate can vary depending on the actual sample that was drawn and it would therefore be better to draw not one, but a couple of samples, for each of which we could then calculate the desired point estimate. This would allow us to get an idea about how much those estimates can vary and what the corresponding frequency distribution looks like. \n",
    "As explained in the lecture however, often we don't have the resources to draw multiple samples but only one. Fortunately a method called \"bootstrap\" can help us out. When bootstrapping, we start of by drawing one \"original sample\" from the population. Assuming that the original sample is sufficiently representative of the entire population we then go on and resample multiple times from that original sample to simulate additional draws from the population. Those replicated samples are of the same size as the original sample and must hence be drawn with replacement as we would just end up with the exact same sample over and over again otherwise.\n",
    "To deepen your understanding of bootstrapping, study the related theory presented to you in lecture. \n",
    "\n",
    "Here is a quick overview of the procedure:\n",
    "\n",
    "- When bootstrapping, treat the **original sample** as if it was the population.\n",
    "- Then, draw from the original sample, at random **with replacement**. This process is called **resampling**. \n",
    "- A resampled sample is called a **replication**.\n",
    "- It is important that every replication has exactly as many observations as the original sample.\n",
    "- Now calculate the desired estimate based on the first replication.\n",
    "- Repeat this process many times (e. g. 1,000 or 10,000 times) to approximate the distribution of the desired estimator.\n",
    "\n",
    "\n"
   ]
  },
  {
   "cell_type": "markdown",
   "metadata": {},
   "source": [
    "# Exercise 1.1: Bootstrap & Distribution of the Sample Mean\n",
    "\n",
    "In this exercise we will perform bootstrapping to get 1,000 replications and ultimately an empirical frequency distribution of the mean delay of United Airlines flights in the summer of 2015. First, read in the corresponding file and recall the below code on how to obtain an \"original sample\" called `our_sample`of size 250 from last week. As a reference, you should get $16.036$ as a point estimate for the true mean."
   ]
  },
  {
   "cell_type": "code",
   "execution_count": null,
   "metadata": {},
   "outputs": [],
   "source": [
    "united <- read.csv(\"week10-united_summer2015.csv\")\n",
    "head(united)\n",
    "\n",
    "set.seed(1400)# DO NOT delete this line!!!\n",
    "\n",
    "# choosing a sample of size 250 from the above dataframe and calling it \"our_sample\". \n",
    "# ATTENTION: At this point we are sampling rows of the dataframe, not values yet.\n",
    "our_sample = united[sample(nrow(united), size = 250, replace = F), ]\n",
    "\n",
    "# calculating the sample mean of 'Delay' in \"our_sample\" as a point estimate for the population mean.\n",
    "mean(our_sample$Delay)\n"
   ]
  },
  {
   "cell_type": "markdown",
   "metadata": {},
   "source": [
    "This estimate depends on the sample we draw. If you set the random counter to a different number than 1400, you will most likely get a different sample mean. To get an idea of how much our estimate can vary, we will now perform a bootstrap to create 1,000 replications from the \"original sample\". Familiarise yourself with the code below and fill in the blanks."
   ]
  },
  {
   "cell_type": "code",
   "execution_count": null,
   "metadata": {},
   "outputs": [],
   "source": [
    "# THIS CODE BLOCK WILL HAVE TO BE MANIPULATED BY YOU TO WORK!\n",
    "# To do so, replace all \"...j...\" sections with the correct code for j=1,2,3,4,5,6.\n",
    "\n",
    "set.seed(1400)           # DO NOT change or delete this line\n",
    "\n",
    "boot_means <- c()\n",
    "\n",
    "for(i in 1 : ...1...)\n",
    "     { \n",
    "       boot_sample = ...2...[sample(250, size = ...3..., replace = ...4...), ]\n",
    "       boot_means[...5...] = mean(...6...)\n",
    "     }\n",
    "\n",
    "head(boot_means)\n",
    "hist(boot_means)"
   ]
  },
  {
   "cell_type": "markdown",
   "metadata": {},
   "source": [
    "The last line of the above code generates a histogram of the empirical distribution of the resampled means. It is a neat visulisation of the 1,000 bootrstapped sample means. We will come back to this distribution in the second part of this lab sheet."
   ]
  },
  {
   "cell_type": "code",
   "execution_count": null,
   "metadata": {},
   "outputs": [],
   "source": [
    "Finish off this section by answering your assignment questions now."
   ]
  },
  {
   "cell_type": "markdown",
   "metadata": {},
   "source": [
    "# Exercise 1.2: Bootstrap & Distribution of the Sample Standard Deviation\n",
    "\n",
    "We will now perform another bootstrap using the following datafile, which contains information on pregnancies."
   ]
  },
  {
   "cell_type": "code",
   "execution_count": null,
   "metadata": {},
   "outputs": [],
   "source": [
    "pregnancy =  read.csv(\"week10-pregnancy.csv\", header = T, sep = \",\")\n",
    "head(pregnancy)\n",
    "nrow(pregnancy)"
   ]
  },
  {
   "cell_type": "markdown",
   "metadata": {},
   "source": [
    "We will concern ourselves with the age of the mother (i. e. the 'Maternal.Age' variable). Repeat the bootstrap procedure from above to approximate the distribution of the sample standard deviation. Hence, draw one \"original sample\" of size 250 from the dataframe which you will then treat as the population and therefore resample from it. \n",
    "\n",
    "The last two lines of the below code also generate a point estimate (5.972) for the population standard deviation based on the original sample. "
   ]
  },
  {
   "cell_type": "code",
   "execution_count": null,
   "metadata": {},
   "outputs": [],
   "source": [
    "set.seed(1400)           # DO NOT change this line \n",
    "\n",
    "original_sample = pregnancy[sample(nrow(pregnancy), size = 250, replace = F), ]     #generates the \"original sample\"\n",
    "\n",
    "point_est_sd <- sd(original_sample$Maternal.Age)     # serves as our initial point estimate.\n",
    "\n",
    "point_est_sd"
   ]
  },
  {
   "cell_type": "markdown",
   "metadata": {},
   "source": [
    "Now, repeat the actual bootstrap by creating 1,000 replications from the original sample and use those to find and visualise an empirical distribution of the sample standard deviation of the mother's ages. \n",
    "\n",
    "Attention: The code template below works similarly to the bootstrap above. However, there is one small alteration. \n",
    "We will create a function called \"bootstrap_sd\", which will store the standard deviations of **any number of replications** (this will be the argument of the function) in a vector and returns that vector."
   ]
  },
  {
   "cell_type": "code",
   "execution_count": null,
   "metadata": {},
   "outputs": [],
   "source": [
    "# THIS CODE BLOCK WILL HAVE TO BE MANIPULATED BY YOU TO WORK!\n",
    "# To do so, replace all \"...j...\" sections with legit code for j=1,2,3,4,5,6,7,8.\n",
    "\n",
    "\n",
    "# the function has one argument: The amount of replications, so the amount of resampling we want to perform.\n",
    "# the function returns a vector of bootstrapped sample standard deviations.\n",
    "\n",
    "\n",
    "set.seed(1400)\n",
    "bootstrap_sd = function(replications)\n",
    "{ \n",
    "  boot_sd = c()\n",
    "  for(i in 1 : ...1...)\n",
    "     { \n",
    "       bootstrap_sample = original_sample[...2...(nrow(original_sample), size = 250, replace = ...3...), ]\n",
    "       boot_sd[i] = sd(bootstrap_sample$...4...)\n",
    "     }\n",
    "  return(...5...)    \n",
    "}\n",
    "\n",
    "\n",
    "sd.maternal.age <- ...6...(1000)\n",
    "summary(sd.maternal.age)\n",
    "\n",
    "\n",
    "hist(...7..., xlab = \"Bootstrap Sample Standard Deviation\", ylab = \"Density\", main = \"\", \n",
    "     probability = T, col = \"gray\")\n",
    "\n",
    "# red point: \"population\" standard deviation on the horizontal axis \n",
    "# pch and cex: set points shape and size, respectively\n",
    "points(point_est_sd, 0, pch = 16, cex = 1.4, col = \"red\")"
   ]
  },
  {
   "cell_type": "markdown",
   "metadata": {},
   "source": [
    "The last section of the code once again creates a histogram of the distribution of the sample standard deviation of \"mother's age\". The red dot represents the point estimate from the original sample."
   ]
  },
  {
   "cell_type": "markdown",
   "metadata": {},
   "source": [
    "Now turn to your assignment questions regarding this part of the lab sheet. "
   ]
  },
  {
   "cell_type": "markdown",
   "metadata": {},
   "source": [
    "# Confidence Intervals\n",
    "\n",
    "In the second part of this week's lab, we will concern ourselves with confidence intervals. Please study the following lines of code carefully. They perform bootstrapping to create 1,000 replications of size 100 each. However, this time the defined function 'bootstrap_mean' returns the means of the 'Maternal Age' variable. "
   ]
  },
  {
   "cell_type": "code",
   "execution_count": null,
   "metadata": {},
   "outputs": [],
   "source": [
    "set.seed(12345)           # DO NOT change this line \n",
    "\n",
    "original_sample = pregnancy[sample(nrow(pregnancy), size = 100, replace = F), ]     #generates the \"original sample\"\n",
    "\n",
    "\n",
    "population_mean <- mean(pregnancy$Maternal.Age)\n",
    "\n",
    "\n",
    "bootstrap_mean = function(x)\n",
    "{ \n",
    "  boot_mean = c()\n",
    "  for(i in 1 : x)\n",
    "     { \n",
    "       bootstrap_sample = original_sample[sample(nrow(original_sample), size = 100, replace = T), ]\n",
    "       boot_mean[i] = mean(bootstrap_sample$Maternal.Age)\n",
    "     }\n",
    "  return(boot_mean)    \n",
    "}\n",
    "\n",
    "\n",
    "results <- bootstrap_mean(1000)\n",
    "\n",
    "\n",
    "hist(results, xlab = \"Bootstrap Sample Mean\", ylab = \"Density\", main = \"\", \n",
    "     probability = T, col = \"gray\")\n",
    "\n",
    "points(population_mean, 0, pch = 16, cex = 1.4, col = \"red\")"
   ]
  },
  {
   "cell_type": "markdown",
   "metadata": {},
   "source": [
    "# Exercise 2.1:"
   ]
  },
  {
   "cell_type": "markdown",
   "metadata": {},
   "source": [
    "If we regard the entire dataset as our population, then the red dot visualises the population mean. The histogram shows how much a point estimate can vary when our initial sample is rather small. This illustrates a common problem of the bootstrap method, which is that we assume our initial sample to be a \"good\" representation of the population. If this is violated however, our replications will also not represent the population well. This problem can not be solved by simply creating more replications. You can convince yourself of this by increasing the number of replications in the code above and re-run it. Don't forget to reset the number of replications to 1,000 though for the purpose of this exercise.\n",
    "\n",
    "It is because of this variation that point estimates are often regarded to be rather inapt. A very different concept of estimation arises when an interval is constructed accounting for variability in the estimation. Those intervals are called **confidence intervals**. Please study the lecture material regarding confidence intervals. Then construct a 95% confidence interval for the mean maternal age based on the bootstrap from above. \n"
   ]
  },
  {
   "cell_type": "code",
   "execution_count": null,
   "metadata": {},
   "outputs": [],
   "source": [
    "interval = c(quantile(results, 0.025),  quantile(results, 0.975))           \n",
    "\n",
    "\n",
    "# Don't change any of the below code!\n",
    "hist(results, xlab = \"Bootstraped Maternal Age Means\", ylab = \"Density\", main = \"\", \n",
    "     probability = T, col = \"gray\")\n",
    "\n",
    "# red point:  population mean\n",
    "points(population_mean,0, pch = 16, cex = 1.4, col = \"red\")\n",
    "\n",
    "# Constructing the central 95% interval of resampled means.\n",
    "# lwd: Sets thickness of line.\n",
    "lines(c(interval[1], interval[2]), c(0,0), pch = 30, lwd = 3, col = \"blue\")"
   ]
  },
  {
   "cell_type": "markdown",
   "metadata": {},
   "source": [
    "As you can see, the population mean is captured by our 95% confidence interval. Think about (or try it out) how that may change if we increase or decrease the confidence level."
   ]
  },
  {
   "cell_type": "markdown",
   "metadata": {},
   "source": [
    "# Exercise 2.2:\n",
    "\n",
    "Was capturing the population mean just a fluke? To see how frequently the constructed confidence interval contains the mean, we have to repeat the above process. Specifically, we will now repeat it 200 times using another for-loop. Follow these steps to do so:\n",
    "\n",
    "- Draw an \"original\" small sample of size 100 from the entire sample (regarded as the population).\n",
    "- Bootstrap 1,000 times (bootstrapped samples are also of size 100 each) and generate the associated 95% confidence interval.\n",
    "- Repeat both steps 200 times by using another for-loop outside of the first one (called a nested for-loop).\n",
    "\n",
    "This is making things a bit more complicated, but if you remember everything you have already learned, you will be fine! \n",
    "\n",
    "Eventually, we will end up with 200 intervals, and count how many of them contain the population mean.\n",
    "\n",
    "Fill in the blanks in the following lines of code to achieve what is described above now.\n",
    "\n",
    "**Note**: The code chunk below might take several minutes to compile due to the two nested for-loops."
   ]
  },
  {
   "cell_type": "code",
   "execution_count": null,
   "metadata": {},
   "outputs": [],
   "source": [
    "# THIS CODE BLOCK WILL HAVE TO BE MANIPULATED BY YOU TO WORK!\n",
    "# To do so, replace all \"...j...\" sections with the correct code for j=1,2,3,4,5,6.\n",
    "\n",
    "# This code is a very big simulation and will therefore TAKE SEVERAL MINUTES to run, don't panic!\n",
    "\n",
    "# First, we create a matrix with 200 rows and 2 columns. \n",
    "# This matrix will later on contain the lower and upper limits of our 200 simulated confidence intervals. \n",
    "intervals = matrix(nrow= 200, ncol = 2)\n",
    "\n",
    "# setting the random counter.\n",
    "set.seed (12345)\n",
    "\n",
    "# initiating a for loop to generate the 200 confidence intervals.\n",
    "for(i in ...1...){\n",
    "    \n",
    "    # draw an \"original\" sample from the datafile\n",
    "    original_sample = pregnancy[sample(nrow(pregnancy), size = 100, replace = F),]\n",
    "   \n",
    "    # bootstrap 1,000 times from that original sample and calculate the mean each time. \n",
    "    bootstrap_mean = c()\n",
    "    for(k in 1:1000)\n",
    "    { \n",
    "        bootstrap_sample = original_sample[sample(100, size = 100, replace = T), ]\n",
    "        bootstrap_mean[...2...] = mean(bootstrap_sample$Maternal.Age)\n",
    "    }\n",
    "   \n",
    "   # getting the 2.5% and 97.5% quantiles of the bootstrapped means and placing them in our matrix.\n",
    "   intervals[...3...,1] = quantile(...4..., 0.025)\n",
    "   intervals[...3...,2] = quantile(...4..., 0.975)\n",
    "}"
   ]
  },
  {
   "cell_type": "markdown",
   "metadata": {},
   "source": [
    "We have now saved 200 confidence intervals in a matrix called \"intervals\". Let's take a look at the first 20 of those intervals and compare them to the population mean. As you can see, while the 13th interval doesn't contain the population mean, all the others (of the first 20) do."
   ]
  },
  {
   "cell_type": "code",
   "execution_count": null,
   "metadata": {},
   "outputs": [],
   "source": [
    "head(intervals,20)\n",
    "population_mean"
   ]
  },
  {
   "cell_type": "markdown",
   "metadata": {},
   "source": [
    "How many of the 200 intervals exactly contain the population parameter? To find out, we run the following lines of code:"
   ]
  },
  {
   "cell_type": "code",
   "execution_count": null,
   "metadata": {},
   "outputs": [],
   "source": [
    "# setting a counter variable initiated at 0.\n",
    "m = 0       \n",
    "\n",
    "# counting the intervals containing the population mean.\n",
    "for(i in 1:200)\n",
    "    {\n",
    "     if ((population_mean >= intervals[i,1]) & (population_mean <= intervals[i,2]) ) \n",
    "         m =  m + 1\n",
    "    }\n",
    "\n",
    "# return the final value of the counter variable.\n",
    "m"
   ]
  },
  {
   "cell_type": "code",
   "execution_count": null,
   "metadata": {},
   "outputs": [],
   "source": [
    "# Alternatively, the following code does the same:\n",
    "sum((population_mean >= intervals[,1]) & (population_mean <= intervals[,2]))"
   ]
  },
  {
   "cell_type": "markdown",
   "metadata": {},
   "source": [
    "Is the result surprising? Think about the result as a proportion of all constructed confidence intervals."
   ]
  },
  {
   "cell_type": "markdown",
   "metadata": {},
   "source": [
    "# Exercise 2.3\n",
    "\n",
    "Repeat this process for the standard deviation of 'Maternal.Age' now, i. e. write code which will:\n",
    "\n",
    "- Draw an \"original\" small sample of size 100 from the entire sample (regarded as the population).\n",
    "- Bootstrap 1,000 times (bootstrapped samples are also of size 100 each) and generate the associated 95% confidence intervals **for the standard deviation of 'Maternal.Age'**\n",
    "- Repeat both steps 200 times via a nested for-loop.\n",
    "\n",
    "The above code can serve as a template, but please make sure you set the random counter to `1400` when sampling this time. Use the code box below if you like, then answer your last set of assessment questions.\n"
   ]
  },
  {
   "cell_type": "code",
   "execution_count": null,
   "metadata": {},
   "outputs": [],
   "source": [
    "set.seed(1400)\n",
    "\n",
    "\n",
    "# place for your workings\n",
    "\n"
   ]
  },
  {
   "cell_type": "markdown",
   "metadata": {},
   "source": [
    "Please finalise this week's lab sheet now by answering the last of your assignment questions. Remember to round all results to 3 decimal places. Following zero's can of course as always be omitted. For example, state 2.5 as 2.5 and not as 2.500. \n",
    "\n",
    "Good luck!"
   ]
  }
 ],
 "metadata": {
  "kernelspec": {
   "display_name": "R",
   "language": "R",
   "name": "ir"
  },
  "language_info": {
   "codemirror_mode": "r",
   "file_extension": ".r",
   "mimetype": "text/x-r-source",
   "name": "R",
   "pygments_lexer": "r",
   "version": "4.1.3"
  }
 },
 "nbformat": 4,
 "nbformat_minor": 4
}
