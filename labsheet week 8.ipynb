{
 "cells": [
  {
   "cell_type": "markdown",
   "metadata": {},
   "source": [
    "# Lab week 8 - Outcomes\n",
    "\n",
    "\n",
    "In this lab you should read through and run the code in the lab sheet and complete the lab assessment. By the end of this lab you should be able to use R to:\n",
    "\n",
    "\n",
    "* work with iterations\n",
    "* understand Boolean values and basic logical comparisons\n",
    "* work with conditionals\n",
    "* understand and calculate conditional probabilities\n",
    "\n",
    "\n",
    "\n"
   ]
  },
  {
   "cell_type": "markdown",
   "metadata": {},
   "source": [
    "This week, we will improve our programming skills in R. We will start with \"iterations\". At the end of last week's lab sheet you have already encountered an iteration when repeating sampling from a specific distribution. You may remember the following piece of code from last week:"
   ]
  },
  {
   "cell_type": "code",
   "execution_count": null,
   "metadata": {},
   "outputs": [],
   "source": [
    "n = 1000\n",
    "m = 100\n",
    "sample_means = c()\n",
    "\n",
    "for (i in 1:m) {\n",
    "    sample_means[i] = sum(runif(n,0,5))/n\n",
    "}"
   ]
  },
  {
   "cell_type": "markdown",
   "metadata": {},
   "source": [
    "As you can see, in R we can use the `for()` command to repeat a task multiple times; this is also referred to as a **'for loop'**. Let's start with an easy example of a for loop to get a better understanding of its structure."
   ]
  },
  {
   "cell_type": "code",
   "execution_count": null,
   "metadata": {},
   "outputs": [],
   "source": [
    "for (i in 1:10) {\n",
    "    print(i)\n",
    "}"
   ]
  },
  {
   "cell_type": "markdown",
   "metadata": {},
   "source": [
    "The first line states the limits of the for loop. So 1 to 10 in the exapmle above. The second line is called \"the body\", which is executed once for each item of the for loop. So here we execute `print(i)`10 times for changing values of i. Note that i increases by 1 between executions of the body. "
   ]
  },
  {
   "cell_type": "markdown",
   "metadata": {},
   "source": [
    "# Exercise 1.1: For Loop Iteration\n",
    "The next block of code will show you two possibilities of how a for loop can be used to calculate large sums (here: $\\sum_{i=1}^{100}\\, i$) or approximate series. A series is an infinite sum (for example: $\\sum_{i=1}^{\\infty}\\,i$). Try to understand the two methods in the code cells below. Can you see how they differ? Then use this technique to calculate the sums/ approximate the series in your assessment."
   ]
  },
  {
   "cell_type": "code",
   "execution_count": null,
   "metadata": {},
   "outputs": [],
   "source": [
    "results <- c()                    # creates an empty vector\n",
    "for (i in 1:100){\n",
    "    results[i] <- i               # i is stored at i-th position in the vector\n",
    "    }\n",
    "sum(results)                      # all vector entries are being summed up\n",
    "    "
   ]
  },
  {
   "cell_type": "code",
   "execution_count": null,
   "metadata": {},
   "outputs": [],
   "source": [
    "result <- 0                      # sets initial value to 0\n",
    "for (i in 1:100){\n",
    "    result <- result + i        # the initial value is replaced by (itself + i)\n",
    "    }\n",
    "result                          # the value of \"results\" is printed"
   ]
  },
  {
   "cell_type": "code",
   "execution_count": null,
   "metadata": {},
   "outputs": [],
   "source": [
    "# Use this block for your own iterations to solve the assignment questions\n"
   ]
  },
  {
   "cell_type": "markdown",
   "metadata": {},
   "source": [
    "## Exercise 1.2\n",
    "\n",
    "Do you remember how we determined the warmest year (within the years 2000-2009) based on average (over months) temperature? "
   ]
  },
  {
   "cell_type": "code",
   "execution_count": null,
   "metadata": {},
   "outputs": [],
   "source": [
    "weather <- read.csv(\"week8-perth_weather.csv\")\n",
    "head(weather)"
   ]
  },
  {
   "cell_type": "markdown",
   "metadata": {},
   "source": [
    "Use the template below to program a for loop which stores the average (over all 12 months) temperature for each year in a vector called 'vec'."
   ]
  },
  {
   "cell_type": "code",
   "execution_count": null,
   "metadata": {},
   "outputs": [],
   "source": [
    "number.years <- 2009-1950+1 \n",
    "vec <- rep(0,number.years)                                  # creates a vector of the right size with zeros only.\n",
    "                                                            \n",
    "for(i in 1:number.years){\n",
    "    jan <- 12*i-11\n",
    "    dec <- ...1...\n",
    "    vec[...2...] <- mean(weather$average.temp[jan:dec])           # to be completed by you\n",
    "}\n",
    "\n",
    "vec\n",
    "\n",
    "mean(weather$average.temp[1:12])                            # the first entry in 'vec' should be equal to this number."
   ]
  },
  {
   "cell_type": "markdown",
   "metadata": {},
   "source": [
    "# Exercise 2: Booleans"
   ]
  },
  {
   "cell_type": "markdown",
   "metadata": {},
   "source": [
    "Another important feature in R is called \"conditional\". In order to properly understand how conditionals work, we firstly need to get a greater understanding of \"Booleans\".  Boolean values can either be `TRUE` or `FALSE`. We get Boolean values when using comparison operators, amongst which are `<` (less than), `>` (greater than), and `==` (equal to).\\\n",
    "You have already seen Booleans a few times throughout past labs (remember that the `==` was helpful for separating the Maths from the Physics students), but let's take a closer look still."
   ]
  },
  {
   "cell_type": "markdown",
   "metadata": {},
   "source": [
    "Run the cells below to see examples of comparison operators in action."
   ]
  },
  {
   "cell_type": "code",
   "execution_count": null,
   "metadata": {},
   "outputs": [],
   "source": [
    "5 < 4-6\n",
    "5 < 4+6\n",
    "5 == 4-6\n",
    "5 == 3+2\n",
    "5 != 3+2\n",
    "3 < 4 \n",
    "(3:10)==5"
   ]
  },
  {
   "cell_type": "markdown",
   "metadata": {},
   "source": [
    "Note the `!=` notation in the last line of the previous code block which opposes the `==` and reads as \"is not equal to\". We can also assign the result of a comparison operation to a variable."
   ]
  },
  {
   "cell_type": "code",
   "execution_count": null,
   "metadata": {},
   "outputs": [],
   "source": [
    "bool <- 20 -15 == 15/3\n",
    "bool"
   ]
  },
  {
   "cell_type": "markdown",
   "metadata": {},
   "source": [
    "Vectors are also compatible with comparison operators. The output is a vector of Boolean values."
   ]
  },
  {
   "cell_type": "code",
   "execution_count": null,
   "metadata": {},
   "outputs": [],
   "source": [
    "c(1, 5, 7, 8, 3, -1) > 3"
   ]
  },
  {
   "cell_type": "markdown",
   "metadata": {},
   "source": [
    "Also remember from the lecture, that in R the `&&` symbol represents the \"AND condition\" and that both sides of `&&`  have to be true for an AND-condition to be true."
   ]
  },
  {
   "cell_type": "code",
   "execution_count": null,
   "metadata": {},
   "outputs": [],
   "source": [
    "5 < 7 && 4 > 3\n",
    "5 < 7 && 4 > 5"
   ]
  },
  {
   "cell_type": "markdown",
   "metadata": {},
   "source": [
    "From the code below, can you guess what condition is represented by the `||` symbol? "
   ]
  },
  {
   "cell_type": "code",
   "execution_count": null,
   "metadata": {},
   "outputs": [],
   "source": [
    "5 < 7 || 4 > 3\n",
    "5 < 7 || 4 > 5\n",
    "5 < 3 || 2 > 3\n"
   ]
  },
  {
   "cell_type": "markdown",
   "metadata": {},
   "source": [
    "If we compare vectors of Booleans, `&&` and `||` will only compare the first element of both vectors. Instead we have to use `&` and `|` if we want to compare the vectors element by element. For example:"
   ]
  },
  {
   "cell_type": "code",
   "execution_count": null,
   "metadata": {},
   "outputs": [],
   "source": [
    "x <- c(1,2,3,4)\n",
    "y <- c(0,2,4,-1)\n",
    "\n",
    "x<y\n",
    "x>y\n",
    "\n",
    "x<y || x>y\n",
    "\n",
    "x<y | x>y"
   ]
  },
  {
   "cell_type": "markdown",
   "metadata": {},
   "source": [
    "Take some time to work through the corresponding assignment question before you proceed to the next section."
   ]
  },
  {
   "cell_type": "code",
   "execution_count": null,
   "metadata": {},
   "outputs": [],
   "source": [
    "# Use this block to solve your assignment questions."
   ]
  },
  {
   "cell_type": "markdown",
   "metadata": {},
   "source": [
    "# Conditionals\n",
    "\n",
    "Let us now get back to the earlier mentioned \"conditional\". A conditional statement is made up of multiple lines that allow R to choose from different alternatives based on whether some condition is 'TRUE' or 'FALSE'. It always begins with an \"if header\", which is a single line consisting of \"if\" and a condition in parentheses. This line is then followed by the \"body\".\n",
    "The body is only executed if the condition of the \"if-header\" evaluates to 'TRUE'. If the condition evaluates to 'FALSE', then the body of that \"if header\" is skipped. See the following code for clarification.\n"
   ]
  },
  {
   "cell_type": "code",
   "execution_count": null,
   "metadata": {},
   "outputs": [],
   "source": [
    "if (3 < 5){\n",
    "    print (\"3 is smaller than 5\")\n",
    "} else{\n",
    "    print (\"3 is not smaller than 5\")\n",
    "}\n",
    "\n",
    "\n",
    "if (7 < 4){\n",
    "    print (\"7 is smaller than 4\")\n",
    "} else{\n",
    "    print (\"7 is not smaller than 4\")\n",
    "}"
   ]
  },
  {
   "cell_type": "markdown",
   "metadata": {},
   "source": [
    "# Functions\n",
    "\n",
    "Conditional statements often appear within the body of a function. \n",
    "\n",
    "We have already seen many examples of functions, like `summary()`, `print()` and `mean()` to name a few. These are in-built functions which we can readily access. However, we can also build our own functions. In general, a function performs a task based on its arguments. The `mean()` function for instance calculates and returns the mean of its argument which has to be a vector of numerical values.\n",
    "If we would like to create our own function we need to use this basic syntax:\n",
    "\n",
    "```\n",
    "function_name <- function(arg_1, arg_2, ...) {\n",
    "   function body \n",
    "}\n",
    "```\n",
    "\n",
    "As you can see a function is created by assigning the keyword 'function' followed by a set of arguments to the variable 'function_name'. If we want to call the function later, we simply type \n",
    "\n",
    "```\n",
    "function_name(arg_1, arg_2,...)\n",
    "```\n",
    "\n",
    "The code `mean(c(2,5,4))` is an example of that where 'mean' is the function name and 'c(2,5,4)' is its first (and only) argument. \n",
    "\n",
    "The following lines of code present a function which accepts a vector as input and calculates the sum of the squared elements of that vector. "
   ]
  },
  {
   "cell_type": "code",
   "execution_count": null,
   "metadata": {},
   "outputs": [],
   "source": [
    "sum.of.squares <- function(x){\n",
    "    return(sum(x^2))\n",
    "}\n",
    "   \n",
    "sum.of.squares(c(1,2,3))"
   ]
  },
  {
   "cell_type": "markdown",
   "metadata": {},
   "source": [
    "Getting back to conditionals which often appear within the body of a function to express alternative behavior depending on the argument of the function: Study the following example for clarification. Also notice the `else if` command which adds another condition to our code. The \"body\" of that \"else if\" condition is only executed if the original condition (here x < y) is 'FALSE'. The final `else` is only reached if all previous conditions evaluate to 'FALSE'."
   ]
  },
  {
   "cell_type": "code",
   "execution_count": null,
   "metadata": {},
   "outputs": [],
   "source": [
    "fn.1 = function(x,y) {\n",
    "    if( x < y) {\n",
    "        cat(x,\"is smaller than\", y, \"\\n\")\n",
    "    } else if (x > y) {\n",
    "        cat(y,\"is smaller than\", x, \"\\n\")   \n",
    "    } else {\n",
    "        cat(x,\"is equal to\", y, \"\\n\")\n",
    "    }\n",
    "}\n",
    "\n",
    "fn.1(3,5)\n",
    "fn.1(4,2)\n",
    "fn.1(6,6)\n"
   ]
  },
  {
   "cell_type": "markdown",
   "metadata": {},
   "source": [
    "The general format of a multi-clause conditional statement looks like the one above.\n",
    "There is always exactly one \"if header\", but there can be any number of \"else if\" clauses. R will evaluate the\n",
    "\"if condition\" first. Then, in case the previous expression was 'FALSE' the next \"else if condition\" is evaluated and so on until one is found that is 'TRUE'. Then R executes the corresponding \"body\".\n",
    "\n",
    "The \"else clause\" is optional and often serves as a collection of all remaining cases which weren't part of any \"if\" or \"else if condition\" yet. Hence, when an \"else\" clause is provided, its \"body\" is executed\n",
    "only if none of the header expressions of the previous clauses are 'TRUE'. The \"else\" clause is always the last clause or doesn't appear at all. A code template looks like this:"
   ]
  },
  {
   "cell_type": "markdown",
   "metadata": {},
   "source": [
    "```\n",
    "if (condition 1){\n",
    "    if-body \n",
    "} else if (condition 2) {\n",
    "    else-if-body \n",
    "} else if (condition 3) {\n",
    "    else-if-body \n",
    "}  ...\n",
    "  else {\n",
    "    else-body\n",
    "}\n",
    "```"
   ]
  },
  {
   "cell_type": "markdown",
   "metadata": {},
   "source": [
    "# Exercise 3\n",
    "\n",
    "Imagine betting on a monkey throwing a dart (a dartboard consist of 20 equally sized panels labeled 1 to 20. For the purpose of this exercise we ignore the fact that the centre of the board consists of two additional panels). The rules of the game are:\n",
    "\n",
    "1) if the monkey hits the panel '1', you lose 1 dollar\\\n",
    "2) if the monkey hits an even number nothing happens\\\n",
    "3) if the monkey hits an odd number between 3 and 9 (including both), you win 2 dollars\\\n",
    "4) if the monkey hits an odd number between 11 and 17 (including both), you win 4 dollars\\\n",
    "5) if the monkey hits 19, you win 10 dollars\n",
    "\n",
    "\n",
    "Your task now is to write a function that returns your winnings. Hint: In R we can test if an integer $a$ is divisible by $b$ via `a%%b`, which will state the remainder. See examples below."
   ]
  },
  {
   "cell_type": "code",
   "execution_count": null,
   "metadata": {},
   "outputs": [],
   "source": [
    "24 %% 2\n",
    "47 %% 5"
   ]
  },
  {
   "cell_type": "markdown",
   "metadata": {},
   "source": [
    "Now insert the missing code pieces in the code block below to create a function called \"monkey.bet\", which returns your winnings for one throw of a dart. To avoid confusion: **Your assignment questions will only require you to type in the current blanks.**"
   ]
  },
  {
   "cell_type": "code",
   "execution_count": null,
   "metadata": {},
   "outputs": [],
   "source": [
    "# THIS CODE BLOCK WILL HAVE TO BE MANIPULATED BY YOU TO WORK!\n",
    "# To do so, replace all sections which include \"...j...\" with the missing code for j=1,2,3,4.\n",
    "\n",
    "# Complete all if-, else if- and else clauses.\n",
    "\n",
    "\n",
    "monkey.bet = function(x) {\n",
    "# Returns payout if the dart lands on panel x.\n",
    "    if (...1...) {\n",
    "        return (-1)\n",
    "    }\n",
    "    else if (...2...) {\n",
    "        return (0)\n",
    "    }\n",
    "    else if (...3...) {\n",
    "        return (2)\n",
    "    }\n",
    "    else if (...4...) {\n",
    "        return (4)  \n",
    "    }\n",
    "    else  {\n",
    "        return (10)   \n",
    "    }\n",
    "}"
   ]
  },
  {
   "cell_type": "markdown",
   "metadata": {},
   "source": [
    "Use the code below to check your \"monkey.bet\" function."
   ]
  },
  {
   "cell_type": "code",
   "execution_count": null,
   "metadata": {
    "scrolled": true
   },
   "outputs": [],
   "source": [
    "results <- c()\n",
    "for (i in 1:20) {\n",
    "    results[i] <- monkey.bet(i)\n",
    "}\n",
    "results"
   ]
  },
  {
   "cell_type": "markdown",
   "metadata": {},
   "source": [
    "* What happens when you call your function with an argument of \"21\" instead?\n",
    "* Why does this happen?\n",
    "\n",
    "To assure that the function only accepts arguments which are elements of the sample space add the command line below into your monkey.bet function as the first \"if-header\". "
   ]
  },
  {
   "cell_type": "code",
   "execution_count": null,
   "metadata": {},
   "outputs": [],
   "source": [
    "if (x>20 | x<1) {stop (\"number is not a dart panel\")}"
   ]
  },
  {
   "cell_type": "markdown",
   "metadata": {},
   "source": [
    "If you now call the function with \"21\" again, you should receive an error message."
   ]
  },
  {
   "cell_type": "markdown",
   "metadata": {},
   "source": [
    "# Exercise 4: \n",
    "We can use our knowledge about conditionals in order to find how many summands are needed for a series to get above a certain threshold. For example let us take the series $\\sum_{i=1}^{n} i^2$ and the number of summands needed to exceed the threshold of 1000. Since the sum starts at $i = 1$ finding the number of summands is equal to finding the value of $n$, for which this series is greater than $1000$ for the first time. (Note that this changes once the sum does not start at $i = 1$.)\n",
    "To find out study the following lines of code. Notice that the `break` command exits the for loop."
   ]
  },
  {
   "cell_type": "code",
   "execution_count": null,
   "metadata": {},
   "outputs": [],
   "source": [
    "result <- 0                     # sets initial value to 0\n",
    "counter <- 0                    # sets the summand counter to 0\n",
    "\n",
    "for (i in 1:100){\n",
    "    result <- result + i^2      # the initial value is replaced by (itself + i^2)\n",
    "    counter <- counter + 1      # the summand counter increases by 1.\n",
    "    if (result > 1000) {        # conditional\n",
    "        print(counter)          # prints the number of summands that were needed to get past the threshold\n",
    "        break                   # exists the for loop.\n",
    "    }\n",
    " }\n"
   ]
  },
  {
   "cell_type": "markdown",
   "metadata": {},
   "source": [
    "As you can see by the output, 14 summands are needed (i.e. $1^2 + 2^2 + 3^2 +...+ 14^2$) until the sum is greater than 1000. Now use the knowledge you have gathered throughout this lab sheet to manipulate the code above such that it will help you answer your assignment questions. "
   ]
  },
  {
   "cell_type": "code",
   "execution_count": null,
   "metadata": {},
   "outputs": [],
   "source": [
    "# Use this cell to manipulate the code above for your own calculations regarding your assignment questions.\n"
   ]
  },
  {
   "cell_type": "markdown",
   "metadata": {},
   "source": [
    "# Conditional Probability\n",
    "\n",
    "First, revisit the Monty Hall Problem from the lecture, for which it was statistically smarter to change doors upon being presented with one empty door. Revealing that one of the doors is empty changes our initial knowledge of the situation and hence poses a condition.\n",
    "\n",
    "\n",
    "Conditional probabilities are often needed for medical testing. To illustrate this we will now try to calculate conditional probabilities for a very current matter.\\\n",
    "The state of Victoria has a total population of roughly 8.166 Million people. So far there have been 17,173 confirmed cases of CoVid19. Hence, the probability for a citizen of New South Wales to be or have been infected with CoVid19 is $P(C) = 17,173/8,166,000 \\approx 0.002$, where $C$ stands for the event of a citizen having the virus. \\\n",
    "Let's now assume that we have a fictitious medical test that correctly identifies people with CoVid19 in 95% of all times, i.e. the test is positive if the patient has CoVid19. We will denote $+$ as the event of a positive test result. Then $P(+|C)=0.95$. The test furthermore correctly identifies people without CoVid19 in 90% of all times, i.e. the test is negative if the patient doesn't have CoVid19, therefore $P(-|\\bar{C})= 0.9$, where $-$ represents the event of a negative test result.\\\n",
    "Note: $P(A|B$) states the conditional probability of $A$ given $B$ and $\\bar{A}$ states the complement of $A$.\n",
    "\n",
    "The following tree diagram illustrates the situation."
   ]
  },
  {
   "cell_type": "markdown",
   "metadata": {},
   "source": [
    "\n",
    "\n",
    "                         / \\\n",
    "                        /   \\\n",
    "          P(C)= 0.002  /     \\  ?\n",
    "                      /       \\\n",
    "                  CoVid      no CoVid\n",
    "                   / \\         / \\\n",
    "     P(+|C)=0.95  /   \\ ?   ? /   \\ P(-| no Covid)=0.9\n",
    "                 /     \\     /     \\\n",
    "                +       -   +       -"
   ]
  },
  {
   "cell_type": "markdown",
   "metadata": {},
   "source": [
    "# Exercise 5\n",
    "\n",
    "First of all, be reminded that the probabilities above are entirely fictitious.\n",
    "\n",
    "Now use the multiplication and addition rule from lecture as well as the conditional probability rule stated below to calculate the following probabilities:\n",
    "\n",
    "* $P(\\bar{C})$\n",
    "* $P(-)$\n",
    "* $P(C|+)$\n",
    "* $P(C|-)$\n",
    "\n",
    "Note: For the situation above, conditional probabilities can be calculated as follows: $P(A|B)= \\frac{P(B|A)\\,P(A)}{P(B)} =\\frac{P(B|A)\\,P(A)}{P(B \\cap A) +P(B \\cap \\bar{A})} = \\frac{P(B|A)\\,P(A)}{P(B|A)\\,P(A) + P(B|\\bar{A})\\,P(\\bar{A})} $"
   ]
  },
  {
   "cell_type": "markdown",
   "metadata": {},
   "source": [
    "Please finalise this week's assignment now. Remember to round all results to 3 decimal places. Following zero's can of course as always be omitted. For example, state 2.5 as 2.5 and not as 2.500. DO NOT round intermediate results, but only the final answer.\n",
    "\n",
    "Good luck!"
   ]
  }
 ],
 "metadata": {
  "kernelspec": {
   "display_name": "R",
   "language": "R",
   "name": "ir"
  },
  "language_info": {
   "codemirror_mode": "r",
   "file_extension": ".r",
   "mimetype": "text/x-r-source",
   "name": "R",
   "pygments_lexer": "r",
   "version": "4.0.4"
  }
 },
 "nbformat": 4,
 "nbformat_minor": 4
}
