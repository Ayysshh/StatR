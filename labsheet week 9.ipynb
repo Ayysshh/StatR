{
 "cells": [
  {
   "cell_type": "markdown",
   "metadata": {},
   "source": [
    "# Lab week 9 - Outcomes\n",
    "\n",
    "\n",
    "In this lab you should read through and run the code in the lab sheet and complete the lab assessment. By the end of this lab you should be able to use R to:\n",
    "\n",
    "\n",
    "* simulate outcomes of random experiments.\n",
    "* investigate the sampling distribution of the sample mean $\\bar X$.\n",
    "* sample data from a population.\n",
    "* find point estimates for population parameters.\n",
    "\n",
    "Please run the following line of code for the purpose of graph quality."
   ]
  },
  {
   "cell_type": "code",
   "execution_count": null,
   "metadata": {},
   "outputs": [],
   "source": [
    "options(repr.plot.width=4, repr.plot.height=4, repr.plot.res = 120)"
   ]
  },
  {
   "cell_type": "markdown",
   "metadata": {},
   "source": [
    "It is necessary to define the random number generator to obtain reproducible results. You **MUST** run the command below **every time** you open your lab sheet."
   ]
  },
  {
   "cell_type": "code",
   "execution_count": null,
   "metadata": {},
   "outputs": [],
   "source": [
    "## You MUST run this code (every time you open the lab sheet).\n",
    "aux <- version\n",
    "if (((as.numeric(aux$major) >= 3) && (as.numeric(aux$minor) >= 6)) || (as.numeric(aux$major) >= 4)) {\n",
    "  RNGkind(kind = \"Mersenne-Twister\", normal.kind = \"Inversion\", sample.kind = \"Rounding\")\n",
    "} else {\n",
    "  RNGkind(kind = \"Mersenne-Twister\", normal.kind = \"Inversion\")\n",
    "}\n",
    "\n",
    "set.seed(12345)\n",
    "cat(\"1st check: 5 = \",sample(1:6,1),\"\\n\",sep=\"\")\n",
    "cat(\"2nd check: 9 = \",ceiling(runif(1,0,10)),\"\\n\",sep=\"\")\n",
    "cat(\"If the statements above are right, then it is ok.\\n\",sep=\"\")\n",
    "cat(\"\\n\",sep=\"\")\n",
    "cat(\"If you get a warning message as below, this is ok. \\n   'Warning message in RNGkind(kind = \",'\"',\"Mersenne-Twister\",'\"',\n",
    "    \", normal.kind = \",'\"',\"Inversion\",'\"',\", :\\n\",'   \"',\"non-uniform 'Rounding' sampler used\",'\"',\"\\n\",sep=\"\")\n",
    "\n",
    "options(repr.plot.width=6, repr.plot.height=6, repr.plot.res = 120)"
   ]
  },
  {
   "cell_type": "markdown",
   "metadata": {},
   "source": [
    "We have already encountered the concept of randomness throughout the previous labs. Recall for instance how we randomly sampled from a fair die."
   ]
  },
  {
   "cell_type": "code",
   "execution_count": null,
   "metadata": {},
   "outputs": [],
   "source": [
    "roll <- sample(c(1:6), size = 11, replace = TRUE)\n",
    "roll"
   ]
  },
  {
   "cell_type": "markdown",
   "metadata": {},
   "source": [
    "If you run the code block above multiple times, it will generate different outcomes. However, recall from lecture as well as labsheet week 7, that we can manipulate this via the `set.seed()` command as seen below. If you run the code block below multiple times now, it will always generate the same outcome."
   ]
  },
  {
   "cell_type": "code",
   "execution_count": null,
   "metadata": {},
   "outputs": [],
   "source": [
    "set.seed(1234) \n",
    "roll <- sample(c(1:6), size = 11, replace = TRUE)\n",
    "roll"
   ]
  },
  {
   "cell_type": "markdown",
   "metadata": {},
   "source": [
    "The outcome (although random) will always be the same depending on the argument of `set.seed()`. In the code above, remove $1234$ and insert a different number. Then, run the code again and see what happens. Also, try what happens when you run it multiple times.\n",
    "\n",
    "We have hence found a way to generate random outcomes that are **replicable**. We will make use of this concept to check your assignment solutions for correctness. **The information on which** `set.seed()` **you should use is given in the assignment for each exercise**. You must follow the instruction; otherwise, you may produce a different result and get the wrong answer for the question."
   ]
  },
  {
   "cell_type": "markdown",
   "metadata": {},
   "source": [
    "## Simulation\n",
    "\n",
    "Simulation is the process of using a computer to mimic a physical experiment, like rolling a die for instance.\n",
    "\n",
    "Simulation in R consist of 3 basic steps:\n",
    "\n",
    "+ Step 1: Define the correct **sample space**.\n",
    "\n",
    "Specify the quantity you want to simulate. For example, you might decide that you want to simulate the outcomes of rolling a fair 6-sided die.\n",
    "\n",
    "+ Step 2: Simulate **one value** only.\n",
    "\n",
    "Figure out how to simulate *one* value of the quantity you specified in Step 1. In our example, you have to figure out how to simulate the outcome of *one* roll of a fair die. \n",
    "\n",
    "+ Step 3: Decide on **how many repetitions** you would like to simulate.\n",
    "\n",
    "Decide how many times you want to simulate the quantity. You will have to repeat Step 2 that many times. This can either directly be achieved via `size` in the `sample()` command, or via a for loop.\n",
    "\n"
   ]
  },
  {
   "cell_type": "code",
   "execution_count": null,
   "metadata": {},
   "outputs": [],
   "source": [
    "set.seed(1234) \n",
    "roll <- sample(c(1:6), size = 11, replace = TRUE)\n",
    "roll\n",
    "\n",
    "#set.seed(1234) \n",
    "roll_vector <- c()                      # this line creates a vector that does not have any elements yet.\n",
    "for (i in 1:11) {\n",
    "    roll_vector[i] <- sample(c(1:6), size = 1, replace = TRUE)       \n",
    "}\n",
    "roll_vector"
   ]
  },
  {
   "cell_type": "markdown",
   "metadata": {},
   "source": [
    "Note how the two methods will yield different results despite setting the random counter. That is because we only set the random counter once at the top of the box via `set.seed(1234)`. If we set it in front of each of the methods, we will instead get the very same result for both methods as you can verify by un-commenting the second `set.seed(1234)` command."
   ]
  },
  {
   "cell_type": "markdown",
   "metadata": {},
   "source": [
    "# Exercise 1: monkey.bet continued\n",
    "\n",
    "You surely remember our gambling monkey from last week throwing darts. The rules of the game were as follows:\n",
    "\n",
    "1) if the monkey hits the panel '1', you lose 1 dollar\\\n",
    "2) if the monkey hits an even number nothing happens\\\n",
    "3) if the monkey hits an odd number between 3 and 9 (including both), you win 2 dollars\\\n",
    "4) if the monkey hits an odd number between 11 and 17 (including both), you win 4 dollars\\\n",
    "5) if the monkey hits 19, you win 10 dollars\n",
    "\n",
    "\n",
    "Let's now see how well he does in earning us some money. First of all, here is the completed code for the function from last week which returns the payout for an individual throw."
   ]
  },
  {
   "cell_type": "code",
   "execution_count": null,
   "metadata": {},
   "outputs": [],
   "source": [
    "monkey.bet = function(x) {\n",
    "     if (x>20 | x<1) {stop (\"number is not a dart panel\")}\n",
    "# Returns payout if the dart lands on panel x.\n",
    "    if ( x==1 ) {return (-1)}\n",
    "    else if ( x%%2==0 ) {return (0)}\n",
    "    else if ( x<=9 ) {return (2)}\n",
    "    else if ( x<=17 ) {return (4)}\n",
    "    else  {return (10) }\n",
    "}"
   ]
  },
  {
   "cell_type": "markdown",
   "metadata": {},
   "source": [
    "Let us now use R to simulate, so mimic, the dart-throwing monkey and the corresponding payouts 5000 times. We will assume that the monkey hits each panel with an equal probability of 0.05. Complete the code below to achieve the 5000 simulations."
   ]
  },
  {
   "cell_type": "code",
   "execution_count": null,
   "metadata": {},
   "outputs": [],
   "source": [
    "set.seed(1400)\n",
    "payout <- c()\n",
    "for (i in 1:5000) {\n",
    "    x <- sample (...)                # needs to be completed. \n",
    "    payout[i] <- monkey.bet(x)       \n",
    "}\n",
    "\n",
    "mean(payout)"
   ]
  },
  {
   "cell_type": "markdown",
   "metadata": {},
   "source": [
    "* What is the average payout from these 5000 simulations?\n",
    "* What is the variance?\n",
    "* What is E(X) if X was a random variable measuring the payout?\n",
    "\n",
    "By capturing the results in a vector, we have given ourselves the ability to use vector methods to do computations. For example, we can use `summary.factor()` to obtain the number of times that each payout appeared. You can use the code below to check if you have completed the above code correctly. If yes, you should get:\n",
    "\n",
    "* \\$ -1: 229 times,\n",
    "* \\$  0: 2535 times,\n",
    "* \\$  2: 1028 times,\n",
    "* \\$  4:  958 times,\n",
    "* \\$ 10:  250 times.\n"
   ]
  },
  {
   "cell_type": "code",
   "execution_count": null,
   "metadata": {},
   "outputs": [],
   "source": [
    "summary.factor(payout)"
   ]
  },
  {
   "cell_type": "markdown",
   "metadata": {},
   "source": [
    "# Exercise 2.1: Monopoly\n",
    "\n",
    "In the game of \"Monopoly\" the amount of steps a player can move on the board is determined by the sum of two fair 6-sided dice. Follow the instructions above to simulate the amount of steps in \"Monopoly\". Bear in mind, that not all events in the sample space have got the same probability. Simulate the experiment 1000 times. Note that the simulations are independent of another. "
   ]
  },
  {
   "cell_type": "code",
   "execution_count": null,
   "metadata": {},
   "outputs": [],
   "source": [
    "set.seed(1400) ## DO NOT REMOVE THIS LINE!\n",
    "monopoly <- sample(...)     #needs to be completed. DO NOT use a for loop for the simulation!!!"
   ]
  },
  {
   "cell_type": "markdown",
   "metadata": {},
   "source": [
    "Once you have completed the simulation, the code below will create a visualisation of the distribution."
   ]
  },
  {
   "cell_type": "code",
   "execution_count": null,
   "metadata": {},
   "outputs": [],
   "source": [
    "counts <- table(monopoly)\n",
    "barplot(counts, main=\"Distribution of Steps\",\n",
    "   xlab=\"results\")"
   ]
  },
  {
   "cell_type": "markdown",
   "metadata": {},
   "source": [
    "Now think about the following questions and answer the questions in the assignment. If X is a random variable measuring the sum of the two rolls:\n",
    "\n",
    "* what is E(X)?\n",
    "* what is the sample mean?\n",
    "* what is Var(X)?\n",
    "* what is the sample variance?"
   ]
  },
  {
   "cell_type": "markdown",
   "metadata": {},
   "source": [
    "# Simulating a Statistic\n",
    "\n",
    "Recall from your lecture, that a **statistic** is a random value that is computed based on a sample. Hence, the sample mean for instance is a statistic. So is the sample median, the sample variance etcetera. Since the value of a statistic is based on a sample, it changes depending on the sample outcome. A statistic can therefore be regarded as a random variable and one can report its distribution, which is referred to as the \"sampling distribution\"."
   ]
  },
  {
   "cell_type": "markdown",
   "metadata": {},
   "source": [
    "# Exercise 2.2: Sampling Distribution of the Mean\n",
    "\n",
    "Let us now try to find the sampling distribution of the sample mean $\\bar {X}$ for the monopoly game. To do so, repeat the experiment from above 100 times (use a for loop for this), that is generate 100 samples of size 1000 and calculate the mean for each of those 100 samples. Use the code template below to do so."
   ]
  },
  {
   "cell_type": "code",
   "execution_count": null,
   "metadata": {},
   "outputs": [],
   "source": [
    "set.seed(1400)    # DO NOT change this line.\n",
    "\n",
    "vector <- c()     # this line creates a variable which is an empty vector. We will store the means of our 100 repitions\n",
    "                  # in here as we now loop through the 'for-loop'\n",
    "\n",
    "for(i in 1:100){\n",
    "\n",
    "    monopoly <- sample(...)          # use your code from Exercise 2.1.\n",
    "\n",
    "    vector[i] <- mean(monopoly)      # stores the mean of the i-th sample of size 1000 at position i.\n",
    "}\n",
    "summary(vector)"
   ]
  },
  {
   "cell_type": "markdown",
   "metadata": {},
   "source": [
    "* What is the sample mean of $\\bar X$?\n",
    "* What is the sample variance of $\\bar X$?\n",
    "* Compare the sample variance of $X$ to the sample variance of $\\bar X$. What do you notice?\n",
    "\n",
    "\n",
    "Compare this to your findings from exercise 4 on labsheet week 7 and use a similar code to compare the distributions of $X$ and $\\bar X$ running the block of code below."
   ]
  },
  {
   "cell_type": "code",
   "execution_count": null,
   "metadata": {},
   "outputs": [],
   "source": [
    "par(mfrow=c(1,2))\n",
    "barplot(counts, main=\"distribution of sum\",\n",
    "   xlab=\"results\") \n",
    "hist(vector,freq=TRUE,col=2, main=\" distribution of mean\", xlim = c(2, 12))"
   ]
  },
  {
   "cell_type": "markdown",
   "metadata": {},
   "source": [
    "How does this visual comparison correspond to your findings regarding Var($X$) and Var($\\bar X$)?"
   ]
  },
  {
   "cell_type": "markdown",
   "metadata": {},
   "source": [
    "## Sampling from a Population\n",
    "\n",
    "First, recall from lecture the difference between the population and a sample. Now read in the \"united_summer2015.csv\" file. It contains information about 13,825 United Airlines domestic flights departing from San Francisco in the summer of 2015."
   ]
  },
  {
   "cell_type": "code",
   "execution_count": null,
   "metadata": {},
   "outputs": [],
   "source": [
    "united <- read.csv(\"week9-united_summer2015.csv\")\n",
    "head(united)\n",
    "nrow(united)"
   ]
  },
  {
   "cell_type": "markdown",
   "metadata": {},
   "source": [
    "Let us now think of the 13,825 flights as the population and draw a single random sample of size $100$ from the 'Delay' variable of that population. Study the code below and familiarise yourself with it."
   ]
  },
  {
   "cell_type": "code",
   "execution_count": null,
   "metadata": {},
   "outputs": [],
   "source": [
    "set.seed(1400)                        # DO NOT remove or change this line\n",
    "united.sample <- function(x) {\n",
    "  y <- sample(united$Delay, size=x, replace = F) \n",
    "  return(y)\n",
    "}\n",
    "united.sample(100)"
   ]
  },
  {
   "cell_type": "markdown",
   "metadata": {},
   "source": [
    "## Exercise 3.1: \n",
    "\n",
    "We can now calculate the average delay of our 100 sampled flights and compare it to the population mean using the above defined function 'united.sample'"
   ]
  },
  {
   "cell_type": "code",
   "execution_count": null,
   "metadata": {},
   "outputs": [],
   "source": [
    "set.seed(1400)\n",
    "mean(united.sample(100))\n",
    "mean(united$Delay)"
   ]
  },
  {
   "cell_type": "markdown",
   "metadata": {},
   "source": [
    "Clearly, the mean of our sample deviates from the population mean. Investigate what happens when you increase the sample size to 500 and 1000 instead. Why does this happen?\n",
    "\n",
    "Also increase the sample size to 100,000. What happens if you try to run the code then? Why does it not work?\n",
    "\n",
    "Lastly, answer your assignment questions regarding this excercise when the sample size is 1000!"
   ]
  },
  {
   "cell_type": "code",
   "execution_count": null,
   "metadata": {},
   "outputs": [],
   "source": [
    "set.seed(1400)\n",
    "\n",
    "# use this code cell to sample 1000 times."
   ]
  },
  {
   "cell_type": "markdown",
   "metadata": {},
   "source": [
    "## Exercise 3.2: "
   ]
  },
  {
   "cell_type": "markdown",
   "metadata": {},
   "source": [
    "Use the knowledge you have gathered throughout this lab to now investigate and visualise (via histogram) the distribution of the sample mean. Simulate the sample mean 100 times drawing samples of size 1000 each. The template code below will help you to achieve this."
   ]
  },
  {
   "cell_type": "code",
   "execution_count": null,
   "metadata": {},
   "outputs": [],
   "source": [
    "# THIS CODE BLOCK WILL HAVE TO BE MANIPULATED BY YOU TO WORK!\n",
    "# To do so, replace all \"...j...\" sections with correct code for j=1,2,3,4.\n",
    "\n",
    "set.seed(1400)\n",
    "list.of.means = c()\n",
    "\n",
    "for (i in 1:...1...) {\n",
    "  list.of.means[...2...] = mean(united.sample(...3...))\n",
    "}\n",
    "\n",
    "hist(...4...,  xlab = \"delay\", main = \"distribution of the sample mean\")"
   ]
  },
  {
   "cell_type": "markdown",
   "metadata": {},
   "source": [
    "What does the histogram look like? Is it symmetric or skewed? In which interval do you find most of your sample means?"
   ]
  },
  {
   "cell_type": "markdown",
   "metadata": {},
   "source": [
    "# Point Estimation for a Population Parameter\n",
    "\n",
    "In inferential statistics we are more interested in making reasonable assertions about the population (population parameters) rather than the sample. A first, very basic approach is to find a point estimate of the parameter of interest, say the population mean, based on a sample. A classic and solid approach to point estimate the population mean is to calculate the sample mean and take that value as a point estimation. We have calculated sample means many times throughout this lab and discovered that they get closer to the population mean as the sample size increases. Essentially you can assume those estimates to be \"good\" guesses of the population mean, sometimes also referred to as the \"true mean\". \n",
    "\n",
    "However, there are many potential other ways how we could derive a point estimate for the population mean based on a sample. Instead of taking the sample mean, we could for instance take our smallest observation or the biggest observation or the average of those two instead. Think about why these three estimators aren't \"good\" and also think about how you would point estimate other population parameters like variance and median, if it was up to you. \n",
    "\n",
    "Whether an estimator qualifies as a \"good\" estimator is generally beyond the scope of this unit, but one of the main characteristics an estimator should have to be considered a \"good\" estimator is being unbiased."
   ]
  },
  {
   "cell_type": "markdown",
   "metadata": {},
   "source": [
    "Definition: An estimator $\\hat{\\theta}$ is unbiased if its expectation value equals the parameter it seeks to estimate, that is if $E(\\hat{\\theta}) = \\theta$.\n",
    "\n",
    "Example: Let $X_1,X_2,...,X_n$ be $n$ random variables with $E(X_i)=\\mu$ for all $i\\in\\{1,...n\\}$. Then, we can simply calculate the expectation of the sample mean (as it is a random variable based on $X_1,X_2,...,X_n$) and thereby prove that the sample mean $\\bar{X}$ is indeed an unbiased estimator for the population mean $\\mu$. \n",
    "\n",
    "$E(\\bar{X})= E(\\frac{1}{n}\\sum_{i=1}^{n}X_i)= \\frac{1}{n}\\sum_{i=1}^{n}E(X_i)= \\frac{1}{n}\\sum_{i=1}^{n}\\mu= \\frac{1}{n}n\\mu=\\mu$"
   ]
  },
  {
   "cell_type": "markdown",
   "metadata": {},
   "source": [
    "## Exercise 4: Unbiased Point Estimator for the Population Mean\n",
    "\n",
    "Study the above concept of unbiased estimators and answer your assignment questions."
   ]
  },
  {
   "cell_type": "markdown",
   "metadata": {},
   "source": [
    "## Exercise 5\n",
    "\n",
    "Now, let us derive some point estimates for population parameters of the flight delays from above via their sample equivalents using R. "
   ]
  },
  {
   "cell_type": "code",
   "execution_count": null,
   "metadata": {},
   "outputs": [],
   "source": [
    "set.seed(1400)# DO NOT delete this line!!!\n",
    "\n",
    "# choosing a sample of size 1000 from the above dataframe and calling it \"our_sample\". \n",
    "# ATTENTION: At this point we are sampling rows of the dataframe, not values yet.\n",
    "our_sample = united[sample(nrow(united), size = 1000, replace = F), ]\n",
    "\n",
    "# calculating the sample mean of 'Delay' in \"our_sample\" as a point estimate for the population mean.\n",
    "mean(our_sample$Delay)\n",
    "\n",
    "#use this space here to derive the output needed for your assignment!\n",
    "\n",
    "# 1) Find a point estimate for the true upper quartile of 'Delay'\n",
    "\n",
    "# 2) ...\n",
    "\n",
    "# 3) ...\n",
    "\n",
    "# 4) ...\n",
    "\n"
   ]
  },
  {
   "cell_type": "markdown",
   "metadata": {},
   "source": [
    "Please finalise this week's lab sheet now. Remember to round all results to 3 decimal places. Following zero's can of course as always be omitted. For example, state 2.5 as 2.5 and not as 2.500. \n",
    "\n",
    "Good luck!"
   ]
  }
 ],
 "metadata": {
  "kernelspec": {
   "display_name": "R",
   "language": "R",
   "name": "ir"
  },
  "language_info": {
   "codemirror_mode": "r",
   "file_extension": ".r",
   "mimetype": "text/x-r-source",
   "name": "R",
   "pygments_lexer": "r",
   "version": "3.6.3"
  }
 },
 "nbformat": 4,
 "nbformat_minor": 4
}
