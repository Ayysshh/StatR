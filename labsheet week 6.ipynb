{
 "cells": [
  {
   "cell_type": "markdown",
   "metadata": {},
   "source": [
    "# Lab week 6 - Outcomes\n",
    "\n",
    "\n",
    "In this lab you should read through and run the code in the lab sheet and complete the lab assessment. By the end of this lab you should be able to use R to:\n",
    "\n",
    "\n",
    "* Run a linear regression in R and interpret the findings.\n",
    "* Create and interpret a residual plot.\n",
    "* Use linear regression for prediction.\n",
    "* Use log-transformation.\n",
    "\n",
    "\n",
    "Before running the code in the following questions, we will load the necessary packages below: "
   ]
  },
  {
   "cell_type": "code",
   "execution_count": null,
   "metadata": {},
   "outputs": [],
   "source": [
    "library(ggplot2)\n",
    "library(repr) \n",
    "options(repr.plot.width=4, repr.plot.height=4, repr.plot.res = 120)\n"
   ]
  },
  {
   "cell_type": "markdown",
   "metadata": {},
   "source": [
    "# Exercise 1.1: Linear Regression\n",
    "\n",
    "\n",
    "At the end of last week's lab you were asked to create a scatterplot to visualise the relationship between the two variables 'Velocity' and 'Distance' from the galaxy datafile. However, the datafile contained three outliers, which was visible from both the boxplots as well as the scatterplot. The datafile below contains the now error-corrected data."
   ]
  },
  {
   "cell_type": "code",
   "execution_count": null,
   "metadata": {},
   "outputs": [],
   "source": [
    "galaxy <- read.csv(\"week6-galaxy.csv\")\n",
    "head(galaxy)"
   ]
  },
  {
   "cell_type": "markdown",
   "metadata": {},
   "source": [
    "As a reminder, the two variables describe the recessional velocity (measured in km per second) of a galaxy moving away from earth and the distance of that galaxy from earth (measured in Million light years). "
   ]
  },
  {
   "cell_type": "markdown",
   "metadata": {},
   "source": [
    "Calculate the covariance and the correlation coefficient of 'Velocity' and 'Distance'. Use the empty code cell below to do so."
   ]
  },
  {
   "cell_type": "code",
   "execution_count": null,
   "metadata": {},
   "outputs": [],
   "source": [
    "# use this cell for your calculations."
   ]
  },
  {
   "cell_type": "markdown",
   "metadata": {},
   "source": [
    "*How would you interpret these findings?*"
   ]
  },
  {
   "cell_type": "markdown",
   "metadata": {},
   "source": [
    "Let's visualise the association between the two variables using a scatterplot now."
   ]
  },
  {
   "cell_type": "code",
   "execution_count": null,
   "metadata": {},
   "outputs": [],
   "source": [
    "ggplot(galaxy, aes(x = Velocity, y = Distance)) + geom_point() "
   ]
  },
  {
   "cell_type": "markdown",
   "metadata": {},
   "source": [
    "Derive the summary statistics for both variables via the `summary()` command. Use the code cell below."
   ]
  },
  {
   "cell_type": "code",
   "execution_count": null,
   "metadata": {},
   "outputs": [],
   "source": [
    "# summary(galaxy$Distance)"
   ]
  },
  {
   "cell_type": "markdown",
   "metadata": {},
   "source": [
    "In last week's lectures you have learned about linear regression. You can now use the `geom_smooth()` command to visualise the regression line in your scatterplot like shown below. This regression line is the graph of the linear function $y = \\beta_0 + \\beta_1  x $. Remember from last week, that $y$ is hence a linear transformation of $x$. "
   ]
  },
  {
   "cell_type": "code",
   "execution_count": null,
   "metadata": {},
   "outputs": [],
   "source": [
    "ggplot(galaxy, aes(x = Velocity, y = Distance)) +\n",
    " geom_point() +\n",
    " geom_smooth(method = lm, se = FALSE)\n"
   ]
  },
  {
   "cell_type": "markdown",
   "metadata": {},
   "source": [
    "In the equation from above the response variable $y$ depends on the explanatory variable $x$, while $\\beta_0$ and $\\beta_1$ are constants (called \"regression coefficients\"). The corresponding regression model is: $y_i = \\beta_0 + \\beta_1  x_i + \\epsilon_i$, where $\\epsilon_i$ denotes the individual vertical deviation from the regression line for the *i-th* observation. Those deviations are called \"residuals\". We will now fit a linear regression model to our data, that is, we will find the optimal regression coefficients using R. To do so, run the lines below. Pay attention to the order of the variables as the response variable has to be entered first in `lm()`."
   ]
  },
  {
   "cell_type": "code",
   "execution_count": null,
   "metadata": {},
   "outputs": [],
   "source": [
    "# runs the linear regression and stores the residuals\n",
    "lmRes1 <- lm(galaxy$Distance ~ galaxy$Velocity)\n",
    "# summarizes the results\n",
    "summary(lmRes1)"
   ]
  },
  {
   "cell_type": "markdown",
   "metadata": {},
   "source": [
    "# Interpretation of Regression Results\n",
    "\n",
    "The first two lines state the command you ran. This is followed by a five number summary of the residuals. Next, you will see the coefficients table, in the first column of which you will find the estimates of $\\beta_0$ and $\\beta_1$. The residual standard error represents the average (vertical) distance between the observed values and the regression line measured in units of the dependent variable (so the response variable). You will also find the coefficient of determination $R^2$, which serves as an indication of how well the model approximates the observations. More precisely, $R^2$ is the proportion of the variation in the response that can be explained by the explanatory variable. Hence the name 'explanatory variable'. You can ignore all other output for now.\n",
    "\n",
    "\n",
    "From the above results, answer the following questions: \n",
    "\n",
    "* What is the estimated regression line? **Write it out.** \n",
    "* From the output, what are the estimates for $\\beta_0$, $\\beta_1$ and $R^2$?\n",
    "* For your data, does it appear that 'Distance' depends on 'Velocity'? How would interpret the regression coefficients?\n",
    "* Report the standard deviation of the residuals. Note: This is labelled *Residual Standard Error* in the regression output.\n"
   ]
  },
  {
   "cell_type": "markdown",
   "metadata": {},
   "source": [
    "# Exercise 1.2: \n",
    "\n",
    "Repeat the method from above but exchange resposne and explanatory variable, i.e. chose 'Distance' as explanatory and 'Velocity' as response variable this time. Then answer the corresponding assignment questions."
   ]
  },
  {
   "cell_type": "code",
   "execution_count": null,
   "metadata": {},
   "outputs": [],
   "source": [
    "# this block can be used for fitting the linear model with exchanged variables.\n",
    "\n",
    "lmRes2 <- lm(...)     # has to be completed by you!\n",
    "\n",
    "summary(lmRes2)"
   ]
  },
  {
   "cell_type": "markdown",
   "metadata": {},
   "source": [
    "# Exercise 2: Residual Analysis\n"
   ]
  },
  {
   "cell_type": "markdown",
   "metadata": {},
   "source": [
    "#### Plotting the Residuals \n",
    "\n",
    "As explained above, residuals are vertical deviations from the regression line. Very big residuals (positive as well as negative) hence mark outliers in the dataframe. Outliers are troublesome for the purpose of a regression analysis as they alter the regression line in their favor. Let us take a look at the residuals of the previous regression (i.e. the regression performed in Exercise 1.2). To plot the residuals, you can use the command `plot(lmRes2,1)`, where 'lmRes2' is the variable we created above. \n"
   ]
  },
  {
   "cell_type": "code",
   "execution_count": null,
   "metadata": {},
   "outputs": [],
   "source": [
    "lmRes2[2]             # shows all residuals\n",
    "plot(lmRes2,1)         # plots all residuals against their fitted values (values on regression line)\n"
   ]
  },
  {
   "cell_type": "markdown",
   "metadata": {},
   "source": [
    "In the residual plot above you will find that the most extreme residuals have their id number printed next to them. Bear this in mind, as we will remove them from the dataframe later. Hint: You may also find the following lines of code helpful to clearly identify the most extreme outliers. "
   ]
  },
  {
   "cell_type": "code",
   "execution_count": null,
   "metadata": {},
   "outputs": [],
   "source": [
    "x <- residuals(lmRes2)\n",
    "sort(x)"
   ]
  },
  {
   "cell_type": "markdown",
   "metadata": {},
   "source": [
    "**What do you notice about these residuals?**\n",
    "\n",
    "* Is there any residual pattern?\n",
    "* Are there any outliers? \n",
    "* What do you think the mean of the residuals might be (from the residual plot, no calculation needed)?"
   ]
  },
  {
   "cell_type": "markdown",
   "metadata": {},
   "source": [
    "\n",
    "## Removing the outliers \n",
    "\n",
    "Find the three largest residuals (based on their absolute value) and remove the corresponding datasets from the dataframe using the code line below. \n"
   ]
  },
  {
   "cell_type": "code",
   "execution_count": null,
   "metadata": {},
   "outputs": [],
   "source": [
    "galaxy_Modified <- galaxy[-c(...),]     # has to be completed"
   ]
  },
  {
   "cell_type": "markdown",
   "metadata": {},
   "source": [
    "To see what effect these large residuals have we can re-run the regression without them. Make note of any differences in the results (i.e. the values of $\\beta_0$ and $\\beta_1$)."
   ]
  },
  {
   "cell_type": "code",
   "execution_count": null,
   "metadata": {},
   "outputs": [],
   "source": [
    "lmRes_corrected <- lm(...)\n",
    "\n",
    "summary(lmRes_corrected)"
   ]
  },
  {
   "cell_type": "markdown",
   "metadata": {},
   "source": [
    "Also re-run the residual analysis using the residual plot as seen above."
   ]
  },
  {
   "cell_type": "code",
   "execution_count": null,
   "metadata": {},
   "outputs": [],
   "source": [
    "plot(lmRes_corrected,1)"
   ]
  },
  {
   "cell_type": "markdown",
   "metadata": {},
   "source": [
    "* What do you notice about the outlier corrected residuals? \n",
    "* How does the plot compare to the plot of the original residuals?\n"
   ]
  },
  {
   "cell_type": "markdown",
   "metadata": {},
   "source": [
    "# Exercise 3: Prediction\n",
    "\n",
    "Fitting a regression model is often used to make predictions on the dependent variable (response) based on different levels of the independent variable (explanatory variable). You will now try to predict the number of dead larvae based on the concentration of the insecticide used. But first, we will read in the 'larvae' datafile. This datafile has also been slightly altered compared to previous labs, so make sure you read in this new datafile please.\n",
    "\n",
    "Remember: The datafile contains data of an experiment testing the effect of different insecticide intensities. The variable 'NumberLarvae' records the number of dead larvae following different intensities of insecticide treatments (the variable 'Insecticide') measured in millilitres per litre. "
   ]
  },
  {
   "cell_type": "code",
   "execution_count": null,
   "metadata": {},
   "outputs": [],
   "source": [
    "larvae <- read.csv(\"week6-larvae.csv\")\n",
    "head(larvae)"
   ]
  },
  {
   "cell_type": "markdown",
   "metadata": {},
   "source": [
    "This is the visualised relationship that we have already seen in last week's lab. Try to add a linear regression line to this visualisation. "
   ]
  },
  {
   "cell_type": "code",
   "execution_count": null,
   "metadata": {},
   "outputs": [],
   "source": [
    "ggplot(larvae, aes(x = Insecticide, y = NumberLarvae)) + geom_point() \n",
    "ggplot(larvae, aes(x = Insecticide, y = NumberLarvae)) + geom_point() +  ...   # to be completed"
   ]
  },
  {
   "cell_type": "markdown",
   "metadata": {},
   "source": [
    "Use the empty code cell to fit a linear regression model with 'Insecticide' as the independent variable and 'NumberLarvae' as the dependent variable.\n"
   ]
  },
  {
   "cell_type": "code",
   "execution_count": null,
   "metadata": {},
   "outputs": [],
   "source": [
    "lm2 <- lm(...)  # needs to be completed\n",
    "plot(lm2,1)        \n",
    "summary(lm2)"
   ]
  },
  {
   "cell_type": "markdown",
   "metadata": {},
   "source": [
    "Interpret your findings regarding the regression coefficients $\\beta_0$ and $\\beta_1$ as well as $R^2$ and the residual standard deviation.\n",
    "\n",
    "Now, repeat the **residual analysis** from above for this regression. "
   ]
  },
  {
   "cell_type": "markdown",
   "metadata": {},
   "source": [
    "You will now use the estimated regression line to predict how many larvae will die if an insecticide with a certain concentration is used. Let's calculate the predicted number of dead larvae using a dosage of 1 mililitre per litre.\n",
    "\n",
    "Enter the regression coefficient $\\beta_0$ and $\\beta_1$ from your regression output above in the code below and then run the chunk of code. "
   ]
  },
  {
   "cell_type": "code",
   "execution_count": null,
   "metadata": {},
   "outputs": [],
   "source": [
    "# Enter intercept estimate: \n",
    "b0 <- \n",
    "# Enter b1 estimate: \n",
    "b1 <- \n",
    "\n",
    "concentration <- 1                                  \n",
    "PredictedDeadLarvae <- b0 + b1*concentration\n",
    "PredictedDeadLarvae"
   ]
  },
  {
   "cell_type": "markdown",
   "metadata": {},
   "source": [
    "Now turn to your assignment and answer the questions for this part of today's lab. "
   ]
  },
  {
   "cell_type": "markdown",
   "metadata": {},
   "source": [
    "# Exercise 4: Log Transformation in Linear Regression"
   ]
  },
  {
   "cell_type": "markdown",
   "metadata": {},
   "source": [
    "**What did you notice about the residuals?** Take another look at the residual plot.\n",
    "\n",
    "* Is there any residual pattern?\n",
    "* Are there any outliers? \n",
    "* Does the variance of the residuals depend on the fitted values or is it constant?\n",
    "\n",
    "One application of log-transformation is to remove non-constant variance in data.\n",
    "Your last task for today is to perform a log-transformation on the 'NumberLarvae' variable and investigate the consequences running a linear regression with the transformed values. Run the code below to execute the transformation."
   ]
  },
  {
   "cell_type": "code",
   "execution_count": null,
   "metadata": {},
   "outputs": [],
   "source": [
    "larvae$LogNumberLarvae <- log(larvae$NumberLarvae)\n",
    "head(larvae)"
   ]
  },
  {
   "cell_type": "markdown",
   "metadata": {},
   "source": [
    "If the response variable is log transformed in a linear regression, the interpretation of the regression coefficients changes. We shall focus on $\\beta_1$ only. More precisely, $e^{\\beta_1}$ is the multiplicative change in the response we expect to see for every one unit increase of the independent variable.\n",
    "Now, perform a linear regression analysis and a residual analysis using the code cells below. "
   ]
  },
  {
   "cell_type": "code",
   "execution_count": null,
   "metadata": {},
   "outputs": [],
   "source": [
    "lm3 <- lm(...)      # linear model, needs to be completed\n",
    "\n",
    "summary(lm3)"
   ]
  },
  {
   "cell_type": "code",
   "execution_count": null,
   "metadata": {},
   "outputs": [],
   "source": [
    "plot(lm3,1)          # residual plot"
   ]
  },
  {
   "cell_type": "markdown",
   "metadata": {},
   "source": [
    "**What do you notice about the new residuals?**\n",
    "\n",
    "* Is there any residual pattern now?\n",
    "* Are there any outliers? \n",
    "* Is the variance across the fitted values similar or rather different?\n",
    "* What has changed from the previous residual plot? "
   ]
  },
  {
   "cell_type": "markdown",
   "metadata": {},
   "source": [
    "Compare your findings for both models regarding the residuals. \n",
    "\n",
    "* In which model do the residuals appear to be more constant (from the residual plot)?"
   ]
  },
  {
   "cell_type": "markdown",
   "metadata": {},
   "source": [
    "Please finalise this week's lab sheet by answering the remaining questions in your assignment now. Remember to round all results to 3 decimal places. Following zero's can of course as always be omitted. For example, state 2.5 as 2.5 and not as 2.500. \n",
    "\n",
    "Good luck!"
   ]
  }
 ],
 "metadata": {
  "kernelspec": {
   "display_name": "R",
   "language": "R",
   "name": "ir"
  },
  "language_info": {
   "codemirror_mode": "r",
   "file_extension": ".r",
   "mimetype": "text/x-r-source",
   "name": "R",
   "pygments_lexer": "r",
   "version": "4.1.3"
  }
 },
 "nbformat": 4,
 "nbformat_minor": 4
}
